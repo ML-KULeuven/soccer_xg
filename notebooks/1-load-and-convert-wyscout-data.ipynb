{
 "cells": [
  {
   "cell_type": "markdown",
   "metadata": {},
   "source": [
    "# Wyscout Data Preparation\n",
    "\n",
    "This notebook downloads the opensource [Wyscout match event dataset](https://figshare.com/collections/Soccer_match_event_dataset/4415000/2) and converts it to the [SPADL format](https://github.com/ML-KULeuven/socceraction). This dataset contains all spatiotemporal events (passes, shots, fouls, etc.) that occured during all matches of the 2017/18 season of the top-5 European leagues (La Liga, Serie A, Bundesliga, Premier League, Ligue 1) as well as the FIFA World Cup 2018 and UEFA Euro Cup 2016."
   ]
  },
  {
   "cell_type": "code",
   "execution_count": 1,
   "metadata": {
    "tags": []
   },
   "outputs": [],
   "source": [
    "from pathlib import Path\n",
    "\n",
    "from socceraction.data.wyscout import PublicWyscoutLoader\n",
    "from socceraction.spadl.wyscout import convert_to_actions"
   ]
  },
  {
   "cell_type": "code",
   "execution_count": 2,
   "metadata": {
    "tags": []
   },
   "outputs": [
    {
     "name": "stderr",
     "output_type": "stream",
     "text": [
      "/cw/dtaijupiter/NoCsBack/dtai/pieterr/Projects/soccer_xg/.venv/lib/python3.11/site-packages/tqdm/auto.py:21: TqdmWarning: IProgress not found. Please update jupyter and ipywidgets. See https://ipywidgets.readthedocs.io/en/stable/user_install.html\n",
      "  from .autonotebook import tqdm as notebook_tqdm\n"
     ]
    }
   ],
   "source": [
    "%load_ext autoreload\n",
    "%autoreload 2\n",
    "\n",
    "from soccer_xg.data import HDFDataset"
   ]
  },
  {
   "cell_type": "markdown",
   "metadata": {},
   "source": [
    "## Configuration\n",
    "We will load all matches of the 2017/18 season of the top-5 European leagues."
   ]
  },
  {
   "cell_type": "code",
   "execution_count": 3,
   "metadata": {
    "tags": []
   },
   "outputs": [],
   "source": [
    "comps = [\n",
    "    { \"league\": { \"name\": \"ITA\", \"wy_id\": 524 }, \"season\": { \"name\": \"1718\", \"wy_id\": 181248 } },\n",
    "    { \"league\": { \"name\": \"ENG\", \"wy_id\": 364 }, \"season\": { \"name\": \"1718\", \"wy_id\": 181150 } },\n",
    "    { \"league\": { \"name\": \"ESP\", \"wy_id\": 795 }, \"season\": { \"name\": \"1718\", \"wy_id\": 181144 } },\n",
    "    { \"league\": { \"name\": \"FRA\", \"wy_id\": 412 }, \"season\": { \"name\": \"1718\", \"wy_id\": 181189 } },\n",
    "    { \"league\": { \"name\": \"GER\", \"wy_id\": 426 }, \"season\": { \"name\": \"1718\", \"wy_id\": 181137 } }\n",
    "]"
   ]
  },
  {
   "cell_type": "markdown",
   "metadata": {},
   "source": [
    "The cell below defines where the data will be stored."
   ]
  },
  {
   "cell_type": "code",
   "execution_count": 4,
   "metadata": {
    "tags": []
   },
   "outputs": [],
   "source": [
    "raw_datafolder = Path(\"../data/wyscout/raw\")\n",
    "spadl_datafolder = Path(\"../data\")\n",
    "\n",
    "# Create data folder if it doesn't exist\n",
    "raw_datafolder.mkdir(parents=True, exist_ok=True)\n",
    "spadl_datafolder.mkdir(parents=True, exist_ok=True)"
   ]
  },
  {
   "cell_type": "markdown",
   "metadata": {},
   "source": [
    "## Set up a data loader\n",
    "\n",
    "We use the [API clients included in the socceraction library](https://socceraction.readthedocs.io/en/latest/documentation/data/index.html) to fetch data. These clients enable fetching event streams and their corresponding metadata as Pandas DataFrames using a unified data model. Below we setup a data loader to fetch data from the public Wyscout dataset."
   ]
  },
  {
   "cell_type": "code",
   "execution_count": 5,
   "metadata": {
    "tags": []
   },
   "outputs": [],
   "source": [
    "WYL = PublicWyscoutLoader(root=raw_datafolder)"
   ]
  },
  {
   "cell_type": "markdown",
   "metadata": {},
   "source": [
    "Let's fetch all available competitions and check whether we've set the correct IDs above."
   ]
  },
  {
   "cell_type": "code",
   "execution_count": 6,
   "metadata": {
    "tags": []
   },
   "outputs": [
    {
     "data": {
      "text/plain": [
       "{'English first division',\n",
       " 'European Championship',\n",
       " 'French first division',\n",
       " 'German first division',\n",
       " 'Italian first division',\n",
       " 'Spanish first division',\n",
       " 'World Cup'}"
      ]
     },
     "execution_count": 6,
     "metadata": {},
     "output_type": "execute_result"
    }
   ],
   "source": [
    "# View all available competitions\n",
    "df_competitions = WYL.competitions()\n",
    "set(df_competitions.competition_name)"
   ]
  },
  {
   "cell_type": "code",
   "execution_count": 7,
   "metadata": {
    "tags": []
   },
   "outputs": [
    {
     "data": {
      "text/html": [
       "<div>\n",
       "<style scoped>\n",
       "    .dataframe tbody tr th:only-of-type {\n",
       "        vertical-align: middle;\n",
       "    }\n",
       "\n",
       "    .dataframe tbody tr th {\n",
       "        vertical-align: top;\n",
       "    }\n",
       "\n",
       "    .dataframe thead th {\n",
       "        text-align: right;\n",
       "    }\n",
       "</style>\n",
       "<table border=\"1\" class=\"dataframe\">\n",
       "  <thead>\n",
       "    <tr style=\"text-align: right;\">\n",
       "      <th></th>\n",
       "      <th></th>\n",
       "      <th>country_name</th>\n",
       "      <th>competition_name</th>\n",
       "      <th>competition_gender</th>\n",
       "      <th>season_name</th>\n",
       "    </tr>\n",
       "    <tr>\n",
       "      <th>competition_id</th>\n",
       "      <th>season_id</th>\n",
       "      <th></th>\n",
       "      <th></th>\n",
       "      <th></th>\n",
       "      <th></th>\n",
       "    </tr>\n",
       "  </thead>\n",
       "  <tbody>\n",
       "    <tr>\n",
       "      <th>524</th>\n",
       "      <th>181248</th>\n",
       "      <td>Italy</td>\n",
       "      <td>Italian first division</td>\n",
       "      <td>male</td>\n",
       "      <td>2017/2018</td>\n",
       "    </tr>\n",
       "    <tr>\n",
       "      <th>364</th>\n",
       "      <th>181150</th>\n",
       "      <td>England</td>\n",
       "      <td>English first division</td>\n",
       "      <td>male</td>\n",
       "      <td>2017/2018</td>\n",
       "    </tr>\n",
       "    <tr>\n",
       "      <th>795</th>\n",
       "      <th>181144</th>\n",
       "      <td>Spain</td>\n",
       "      <td>Spanish first division</td>\n",
       "      <td>male</td>\n",
       "      <td>2017/2018</td>\n",
       "    </tr>\n",
       "    <tr>\n",
       "      <th>412</th>\n",
       "      <th>181189</th>\n",
       "      <td>France</td>\n",
       "      <td>French first division</td>\n",
       "      <td>male</td>\n",
       "      <td>2017/2018</td>\n",
       "    </tr>\n",
       "    <tr>\n",
       "      <th>426</th>\n",
       "      <th>181137</th>\n",
       "      <td>Germany</td>\n",
       "      <td>German first division</td>\n",
       "      <td>male</td>\n",
       "      <td>2017/2018</td>\n",
       "    </tr>\n",
       "  </tbody>\n",
       "</table>\n",
       "</div>"
      ],
      "text/plain": [
       "                         country_name        competition_name  \\\n",
       "competition_id season_id                                        \n",
       "524            181248           Italy  Italian first division   \n",
       "364            181150         England  English first division   \n",
       "795            181144           Spain  Spanish first division   \n",
       "412            181189          France   French first division   \n",
       "426            181137         Germany   German first division   \n",
       "\n",
       "                         competition_gender season_name  \n",
       "competition_id season_id                                 \n",
       "524            181248                  male   2017/2018  \n",
       "364            181150                  male   2017/2018  \n",
       "795            181144                  male   2017/2018  \n",
       "412            181189                  male   2017/2018  \n",
       "426            181137                  male   2017/2018  "
      ]
     },
     "execution_count": 7,
     "metadata": {},
     "output_type": "execute_result"
    }
   ],
   "source": [
    "df_competitions \\\n",
    " .set_index([\"competition_id\", \"season_id\"]) \\\n",
    " .loc[[(c['league']['wy_id'], c['season']['wy_id']) for c in comps]]"
   ]
  },
  {
   "cell_type": "markdown",
   "metadata": {},
   "source": [
    "## Download and store data"
   ]
  },
  {
   "cell_type": "code",
   "execution_count": 8,
   "metadata": {},
   "outputs": [
    {
     "name": "stdout",
     "output_type": "stream",
     "text": [
      "Importing ITA 1718 ...\n"
     ]
    },
    {
     "name": "stderr",
     "output_type": "stream",
     "text": [
      "Loading game data...:  86%|████████████████████████████████████████████████████████████████████████████████████████████████████████████████████████████████████████████████████████████████████████████████████████████████████████████████████████████████████████████████████████████████████▋                                          | 327/380 [03:54<00:41,  1.29it/s]/cw/dtaijupiter/NoCsBack/dtai/pieterr/Projects/soccer_xg/.venv/lib/python3.11/site-packages/socceraction/data/wyscout/loader.py:281: UserWarning: A player with ID=0 was substituted in the 90th minute of game 2576016, but could not be found on the bench.\n",
      "  warnings.warn(\n",
      "Loading game data...:  98%|█████████████████████████████████████████████████████████████████████████████████████████████████████████████████████████████████████████████████████████████████████████████████████████████████████████████████████████████████████████████████████████████████████████████████████████████████████████▍     | 373/380 [04:25<00:04,  1.59it/s]/cw/dtaijupiter/NoCsBack/dtai/pieterr/Projects/soccer_xg/.venv/lib/python3.11/site-packages/socceraction/data/wyscout/loader.py:281: UserWarning: A player with ID=0 was substituted in the 56th minute of game 2575965, but could not be found on the bench.\n",
      "  warnings.warn(\n",
      "/cw/dtaijupiter/NoCsBack/dtai/pieterr/Projects/soccer_xg/.venv/lib/python3.11/site-packages/socceraction/data/wyscout/loader.py:281: UserWarning: A player with ID=0 was substituted in the 62th minute of game 2575965, but could not be found on the bench.\n",
      "  warnings.warn(\n",
      "/cw/dtaijupiter/NoCsBack/dtai/pieterr/Projects/soccer_xg/.venv/lib/python3.11/site-packages/socceraction/data/wyscout/loader.py:281: UserWarning: A player with ID=0 was substituted in the 88th minute of game 2575965, but could not be found on the bench.\n",
      "  warnings.warn(\n",
      "Loading game data...:  99%|████████████████████████████████████████████████████████████████████████████████████████████████████████████████████████████████████████████████████████████████████████████████████████████████████████████████████████████████████████████████████████████████████████████████████████████████████████████▌  | 377/380 [04:28<00:02,  1.31it/s]/cw/dtaijupiter/NoCsBack/dtai/pieterr/Projects/soccer_xg/.venv/lib/python3.11/site-packages/socceraction/data/wyscout/loader.py:281: UserWarning: A player with ID=0 was substituted in the 74th minute of game 2575959, but could not be found on the bench.\n",
      "  warnings.warn(\n",
      "/cw/dtaijupiter/NoCsBack/dtai/pieterr/Projects/soccer_xg/.venv/lib/python3.11/site-packages/socceraction/data/wyscout/loader.py:281: UserWarning: A player with ID=0 was substituted in the 81th minute of game 2575959, but could not be found on the bench.\n",
      "  warnings.warn(\n",
      "/cw/dtaijupiter/NoCsBack/dtai/pieterr/Projects/soccer_xg/.venv/lib/python3.11/site-packages/socceraction/data/wyscout/loader.py:281: UserWarning: A player with ID=0 was substituted in the 84th minute of game 2575959, but could not be found on the bench.\n",
      "  warnings.warn(\n",
      "Loading game data...: 100%|███████████████████████████████████████████████████████████████████████████████████████████████████████████████████████████████████████████████████████████████████████████████████████████████████████████████████████████████████████████████████████████████████████████████████████████████████████████████| 380/380 [04:29<00:00,  1.41it/s]\n"
     ]
    },
    {
     "name": "stdout",
     "output_type": "stream",
     "text": [
      "Importing ENG 1718 ...\n"
     ]
    },
    {
     "name": "stderr",
     "output_type": "stream",
     "text": [
      "Loading game data...: 100%|███████████████████████████████████████████████████████████████████████████████████████████████████████████████████████████████████████████████████████████████████████████████████████████████████████████████████████████████████████████████████████████████████████████████████████████████████████████████| 380/380 [04:22<00:00,  1.44it/s]\n"
     ]
    },
    {
     "name": "stdout",
     "output_type": "stream",
     "text": [
      "Importing ESP 1718 ...\n"
     ]
    },
    {
     "name": "stderr",
     "output_type": "stream",
     "text": [
      "Loading game data...: 100%|███████████████████████████████████████████████████████████████████████████████████████████████████████████████████████████████████████████████████████████████████████████████████████████████████████████████████████████████████████████████████████████████████████████████████████████████████████████████| 380/380 [04:30<00:00,  1.41it/s]\n"
     ]
    },
    {
     "name": "stdout",
     "output_type": "stream",
     "text": [
      "Importing FRA 1718 ...\n"
     ]
    },
    {
     "name": "stderr",
     "output_type": "stream",
     "text": [
      "Loading game data...: 100%|███████████████████████████████████████████████████████████████████████████████████████████████████████████████████████████████████████████████████████████████████████████████████████████████████████████████████████████████████████████████████████████████████████████████████████████████████████████████| 380/380 [04:21<00:00,  1.45it/s]\n"
     ]
    },
    {
     "name": "stdout",
     "output_type": "stream",
     "text": [
      "Importing GER 1718 ...\n"
     ]
    },
    {
     "name": "stderr",
     "output_type": "stream",
     "text": [
      "Loading game data...: 100%|███████████████████████████████████████████████████████████████████████████████████████████████████████████████████████████████████████████████████████████████████████████████████████████████████████████████████████████████████████████████████████████████████████████████████████████████████████████████| 306/306 [03:26<00:00,  1.48it/s]\n"
     ]
    }
   ],
   "source": [
    "# create a HDF dataset\n",
    "dataset = HDFDataset(\n",
    "    path=spadl_datafolder / \"spadl-wyscout-bigfive-1718.h5\", \n",
    "    mode=\"w\"\n",
    ")\n",
    "for comp in comps:\n",
    "    # get name and id of competition\n",
    "    competition_name, competition_id = comp['league']['name'], comp['league']['wy_id']\n",
    "    season_name, season_id = comp['season']['name'], comp['season']['wy_id']\n",
    "    print(f\"Importing {competition_name} {season_name} ...\")\n",
    "    # import data\n",
    "    dataset.import_data(\n",
    "        WYL, \n",
    "        convert_to_actions, \n",
    "        competition_id, \n",
    "        season_id\n",
    "    )"
   ]
  },
  {
   "cell_type": "markdown",
   "metadata": {},
   "source": [
    "The HDF database now contains all games, teams, players and actions performed during each game."
   ]
  },
  {
   "cell_type": "code",
   "execution_count": 9,
   "metadata": {},
   "outputs": [
    {
     "data": {
      "text/html": [
       "<div>\n",
       "<style scoped>\n",
       "    .dataframe tbody tr th:only-of-type {\n",
       "        vertical-align: middle;\n",
       "    }\n",
       "\n",
       "    .dataframe tbody tr th {\n",
       "        vertical-align: top;\n",
       "    }\n",
       "\n",
       "    .dataframe thead th {\n",
       "        text-align: right;\n",
       "    }\n",
       "</style>\n",
       "<table border=\"1\" class=\"dataframe\">\n",
       "  <thead>\n",
       "    <tr style=\"text-align: right;\">\n",
       "      <th></th>\n",
       "      <th>competition_id</th>\n",
       "      <th>season_id</th>\n",
       "      <th>game_date</th>\n",
       "      <th>game_day</th>\n",
       "      <th>home_team_id</th>\n",
       "      <th>away_team_id</th>\n",
       "    </tr>\n",
       "    <tr>\n",
       "      <th>game_id</th>\n",
       "      <th></th>\n",
       "      <th></th>\n",
       "      <th></th>\n",
       "      <th></th>\n",
       "      <th></th>\n",
       "      <th></th>\n",
       "    </tr>\n",
       "  </thead>\n",
       "  <tbody>\n",
       "    <tr>\n",
       "      <th>2576335</th>\n",
       "      <td>524</td>\n",
       "      <td>181248</td>\n",
       "      <td>2018-05-20 18:45:00</td>\n",
       "      <td>38</td>\n",
       "      <td>3162</td>\n",
       "      <td>3161</td>\n",
       "    </tr>\n",
       "    <tr>\n",
       "      <th>2576336</th>\n",
       "      <td>524</td>\n",
       "      <td>181248</td>\n",
       "      <td>2018-05-20 18:45:00</td>\n",
       "      <td>38</td>\n",
       "      <td>3315</td>\n",
       "      <td>3158</td>\n",
       "    </tr>\n",
       "    <tr>\n",
       "      <th>2576329</th>\n",
       "      <td>524</td>\n",
       "      <td>181248</td>\n",
       "      <td>2018-05-20 16:00:00</td>\n",
       "      <td>38</td>\n",
       "      <td>3173</td>\n",
       "      <td>3172</td>\n",
       "    </tr>\n",
       "    <tr>\n",
       "      <th>2576330</th>\n",
       "      <td>524</td>\n",
       "      <td>181248</td>\n",
       "      <td>2018-05-20 16:00:00</td>\n",
       "      <td>38</td>\n",
       "      <td>3165</td>\n",
       "      <td>3219</td>\n",
       "    </tr>\n",
       "    <tr>\n",
       "      <th>2576331</th>\n",
       "      <td>524</td>\n",
       "      <td>181248</td>\n",
       "      <td>2018-05-20 16:00:00</td>\n",
       "      <td>38</td>\n",
       "      <td>3163</td>\n",
       "      <td>3166</td>\n",
       "    </tr>\n",
       "  </tbody>\n",
       "</table>\n",
       "</div>"
      ],
      "text/plain": [
       "         competition_id  season_id           game_date  game_day  \\\n",
       "game_id                                                            \n",
       "2576335             524     181248 2018-05-20 18:45:00        38   \n",
       "2576336             524     181248 2018-05-20 18:45:00        38   \n",
       "2576329             524     181248 2018-05-20 16:00:00        38   \n",
       "2576330             524     181248 2018-05-20 16:00:00        38   \n",
       "2576331             524     181248 2018-05-20 16:00:00        38   \n",
       "\n",
       "         home_team_id  away_team_id  \n",
       "game_id                              \n",
       "2576335          3162          3161  \n",
       "2576336          3315          3158  \n",
       "2576329          3173          3172  \n",
       "2576330          3165          3219  \n",
       "2576331          3163          3166  "
      ]
     },
     "execution_count": 9,
     "metadata": {},
     "output_type": "execute_result"
    }
   ],
   "source": [
    "dataset.games().head()"
   ]
  },
  {
   "cell_type": "code",
   "execution_count": 10,
   "metadata": {},
   "outputs": [
    {
     "data": {
      "text/html": [
       "<div>\n",
       "<style scoped>\n",
       "    .dataframe tbody tr th:only-of-type {\n",
       "        vertical-align: middle;\n",
       "    }\n",
       "\n",
       "    .dataframe tbody tr th {\n",
       "        vertical-align: top;\n",
       "    }\n",
       "\n",
       "    .dataframe thead th {\n",
       "        text-align: right;\n",
       "    }\n",
       "</style>\n",
       "<table border=\"1\" class=\"dataframe\">\n",
       "  <thead>\n",
       "    <tr style=\"text-align: right;\">\n",
       "      <th></th>\n",
       "      <th>team_name_short</th>\n",
       "      <th>team_name</th>\n",
       "    </tr>\n",
       "    <tr>\n",
       "      <th>team_id</th>\n",
       "      <th></th>\n",
       "      <th></th>\n",
       "    </tr>\n",
       "  </thead>\n",
       "  <tbody>\n",
       "    <tr>\n",
       "      <th>3166</th>\n",
       "      <td>Bologna</td>\n",
       "      <td>Bologna FC 1909</td>\n",
       "    </tr>\n",
       "    <tr>\n",
       "      <th>3185</th>\n",
       "      <td>Torino</td>\n",
       "      <td>Torino FC</td>\n",
       "    </tr>\n",
       "    <tr>\n",
       "      <th>3197</th>\n",
       "      <td>Crotone</td>\n",
       "      <td>FC Crotone</td>\n",
       "    </tr>\n",
       "    <tr>\n",
       "      <th>3157</th>\n",
       "      <td>Milan</td>\n",
       "      <td>AC Milan</td>\n",
       "    </tr>\n",
       "    <tr>\n",
       "      <th>3161</th>\n",
       "      <td>Internazionale</td>\n",
       "      <td>FC Internazionale Milano</td>\n",
       "    </tr>\n",
       "  </tbody>\n",
       "</table>\n",
       "</div>"
      ],
      "text/plain": [
       "        team_name_short                 team_name\n",
       "team_id                                          \n",
       "3166            Bologna           Bologna FC 1909\n",
       "3185             Torino                 Torino FC\n",
       "3197            Crotone                FC Crotone\n",
       "3157              Milan                  AC Milan\n",
       "3161     Internazionale  FC Internazionale Milano"
      ]
     },
     "execution_count": 10,
     "metadata": {},
     "output_type": "execute_result"
    }
   ],
   "source": [
    "dataset.teams().head()"
   ]
  },
  {
   "cell_type": "code",
   "execution_count": 11,
   "metadata": {},
   "outputs": [
    {
     "data": {
      "text/html": [
       "<div>\n",
       "<style scoped>\n",
       "    .dataframe tbody tr th:only-of-type {\n",
       "        vertical-align: middle;\n",
       "    }\n",
       "\n",
       "    .dataframe tbody tr th {\n",
       "        vertical-align: top;\n",
       "    }\n",
       "\n",
       "    .dataframe thead th {\n",
       "        text-align: right;\n",
       "    }\n",
       "</style>\n",
       "<table border=\"1\" class=\"dataframe\">\n",
       "  <thead>\n",
       "    <tr style=\"text-align: right;\">\n",
       "      <th></th>\n",
       "      <th>team_id</th>\n",
       "      <th>player_name</th>\n",
       "      <th>nickname</th>\n",
       "    </tr>\n",
       "    <tr>\n",
       "      <th>player_id</th>\n",
       "      <th></th>\n",
       "      <th></th>\n",
       "      <th></th>\n",
       "    </tr>\n",
       "  </thead>\n",
       "  <tbody>\n",
       "    <tr>\n",
       "      <th>21384</th>\n",
       "      <td>3162</td>\n",
       "      <td>Ciro Immobile</td>\n",
       "      <td>C. Immobile</td>\n",
       "    </tr>\n",
       "    <tr>\n",
       "      <th>20550</th>\n",
       "      <td>3162</td>\n",
       "      <td>Ştefan Daniel Radu</td>\n",
       "      <td>Ş. Radu</td>\n",
       "    </tr>\n",
       "    <tr>\n",
       "      <th>130</th>\n",
       "      <td>3162</td>\n",
       "      <td>Stefan de Vrij</td>\n",
       "      <td>S. de Vrij</td>\n",
       "    </tr>\n",
       "    <tr>\n",
       "      <th>346908</th>\n",
       "      <td>3162</td>\n",
       "      <td>Alessandro Murgia</td>\n",
       "      <td>A. Murgia</td>\n",
       "    </tr>\n",
       "    <tr>\n",
       "      <th>376362</th>\n",
       "      <td>3162</td>\n",
       "      <td>Luiz Felipe Ramos Marchi</td>\n",
       "      <td>Luiz Felipe</td>\n",
       "    </tr>\n",
       "  </tbody>\n",
       "</table>\n",
       "</div>"
      ],
      "text/plain": [
       "           team_id               player_name     nickname\n",
       "player_id                                                \n",
       "21384         3162             Ciro Immobile  C. Immobile\n",
       "20550         3162        Ştefan Daniel Radu      Ş. Radu\n",
       "130           3162            Stefan de Vrij   S. de Vrij\n",
       "346908        3162         Alessandro Murgia    A. Murgia\n",
       "376362        3162  Luiz Felipe Ramos Marchi  Luiz Felipe"
      ]
     },
     "execution_count": 11,
     "metadata": {},
     "output_type": "execute_result"
    }
   ],
   "source": [
    "dataset.players().head()"
   ]
  },
  {
   "cell_type": "code",
   "execution_count": 12,
   "metadata": {
    "tags": []
   },
   "outputs": [
    {
     "data": {
      "text/html": [
       "<div>\n",
       "<style scoped>\n",
       "    .dataframe tbody tr th:only-of-type {\n",
       "        vertical-align: middle;\n",
       "    }\n",
       "\n",
       "    .dataframe tbody tr th {\n",
       "        vertical-align: top;\n",
       "    }\n",
       "\n",
       "    .dataframe thead th {\n",
       "        text-align: right;\n",
       "    }\n",
       "</style>\n",
       "<table border=\"1\" class=\"dataframe\">\n",
       "  <thead>\n",
       "    <tr style=\"text-align: right;\">\n",
       "      <th></th>\n",
       "      <th>game_id</th>\n",
       "      <th>period_id</th>\n",
       "      <th>milliseconds</th>\n",
       "      <th>team_id</th>\n",
       "      <th>player_id</th>\n",
       "      <th>type_id</th>\n",
       "      <th>type_name</th>\n",
       "      <th>subtype_id</th>\n",
       "      <th>subtype_name</th>\n",
       "      <th>positions</th>\n",
       "      <th>tags</th>\n",
       "    </tr>\n",
       "    <tr>\n",
       "      <th>event_id</th>\n",
       "      <th></th>\n",
       "      <th></th>\n",
       "      <th></th>\n",
       "      <th></th>\n",
       "      <th></th>\n",
       "      <th></th>\n",
       "      <th></th>\n",
       "      <th></th>\n",
       "      <th></th>\n",
       "      <th></th>\n",
       "      <th></th>\n",
       "    </tr>\n",
       "  </thead>\n",
       "  <tbody>\n",
       "    <tr>\n",
       "      <th>253668302</th>\n",
       "      <td>2576335</td>\n",
       "      <td>1</td>\n",
       "      <td>2417.590</td>\n",
       "      <td>3161</td>\n",
       "      <td>3344</td>\n",
       "      <td>8</td>\n",
       "      <td>Pass</td>\n",
       "      <td>85</td>\n",
       "      <td>Simple pass</td>\n",
       "      <td>[{'y': 50, 'x': 49}, {'y': 58, 'x': 38}]</td>\n",
       "      <td>[{'id': 1801}]</td>\n",
       "    </tr>\n",
       "    <tr>\n",
       "      <th>253668303</th>\n",
       "      <td>2576335</td>\n",
       "      <td>1</td>\n",
       "      <td>3904.412</td>\n",
       "      <td>3161</td>\n",
       "      <td>116349</td>\n",
       "      <td>8</td>\n",
       "      <td>Pass</td>\n",
       "      <td>85</td>\n",
       "      <td>Simple pass</td>\n",
       "      <td>[{'y': 58, 'x': 38}, {'y': 91, 'x': 37}]</td>\n",
       "      <td>[{'id': 1801}]</td>\n",
       "    </tr>\n",
       "    <tr>\n",
       "      <th>253668304</th>\n",
       "      <td>2576335</td>\n",
       "      <td>1</td>\n",
       "      <td>6484.211</td>\n",
       "      <td>3161</td>\n",
       "      <td>135903</td>\n",
       "      <td>8</td>\n",
       "      <td>Pass</td>\n",
       "      <td>85</td>\n",
       "      <td>Simple pass</td>\n",
       "      <td>[{'y': 91, 'x': 37}, {'y': 72, 'x': 34}]</td>\n",
       "      <td>[{'id': 1801}]</td>\n",
       "    </tr>\n",
       "    <tr>\n",
       "      <th>253668306</th>\n",
       "      <td>2576335</td>\n",
       "      <td>1</td>\n",
       "      <td>10043.835</td>\n",
       "      <td>3161</td>\n",
       "      <td>138408</td>\n",
       "      <td>8</td>\n",
       "      <td>Pass</td>\n",
       "      <td>85</td>\n",
       "      <td>Simple pass</td>\n",
       "      <td>[{'y': 72, 'x': 34}, {'y': 14, 'x': 36}]</td>\n",
       "      <td>[{'id': 1801}]</td>\n",
       "    </tr>\n",
       "    <tr>\n",
       "      <th>253668308</th>\n",
       "      <td>2576335</td>\n",
       "      <td>1</td>\n",
       "      <td>14032.070</td>\n",
       "      <td>3161</td>\n",
       "      <td>21094</td>\n",
       "      <td>8</td>\n",
       "      <td>Pass</td>\n",
       "      <td>85</td>\n",
       "      <td>Simple pass</td>\n",
       "      <td>[{'y': 14, 'x': 36}, {'y': 39, 'x': 30}]</td>\n",
       "      <td>[{'id': 1801}]</td>\n",
       "    </tr>\n",
       "  </tbody>\n",
       "</table>\n",
       "</div>"
      ],
      "text/plain": [
       "           game_id  period_id  milliseconds  team_id  player_id  type_id  \\\n",
       "event_id                                                                   \n",
       "253668302  2576335          1      2417.590     3161       3344        8   \n",
       "253668303  2576335          1      3904.412     3161     116349        8   \n",
       "253668304  2576335          1      6484.211     3161     135903        8   \n",
       "253668306  2576335          1     10043.835     3161     138408        8   \n",
       "253668308  2576335          1     14032.070     3161      21094        8   \n",
       "\n",
       "          type_name  subtype_id subtype_name  \\\n",
       "event_id                                       \n",
       "253668302      Pass          85  Simple pass   \n",
       "253668303      Pass          85  Simple pass   \n",
       "253668304      Pass          85  Simple pass   \n",
       "253668306      Pass          85  Simple pass   \n",
       "253668308      Pass          85  Simple pass   \n",
       "\n",
       "                                          positions            tags  \n",
       "event_id                                                             \n",
       "253668302  [{'y': 50, 'x': 49}, {'y': 58, 'x': 38}]  [{'id': 1801}]  \n",
       "253668303  [{'y': 58, 'x': 38}, {'y': 91, 'x': 37}]  [{'id': 1801}]  \n",
       "253668304  [{'y': 91, 'x': 37}, {'y': 72, 'x': 34}]  [{'id': 1801}]  \n",
       "253668306  [{'y': 72, 'x': 34}, {'y': 14, 'x': 36}]  [{'id': 1801}]  \n",
       "253668308  [{'y': 14, 'x': 36}, {'y': 39, 'x': 30}]  [{'id': 1801}]  "
      ]
     },
     "execution_count": 12,
     "metadata": {},
     "output_type": "execute_result"
    }
   ],
   "source": [
    "dataset.events(game_id=2576335).head()"
   ]
  },
  {
   "cell_type": "code",
   "execution_count": 13,
   "metadata": {},
   "outputs": [
    {
     "data": {
      "text/html": [
       "<div>\n",
       "<style scoped>\n",
       "    .dataframe tbody tr th:only-of-type {\n",
       "        vertical-align: middle;\n",
       "    }\n",
       "\n",
       "    .dataframe tbody tr th {\n",
       "        vertical-align: top;\n",
       "    }\n",
       "\n",
       "    .dataframe thead th {\n",
       "        text-align: right;\n",
       "    }\n",
       "</style>\n",
       "<table border=\"1\" class=\"dataframe\">\n",
       "  <thead>\n",
       "    <tr style=\"text-align: right;\">\n",
       "      <th></th>\n",
       "      <th>game_id</th>\n",
       "      <th>period_id</th>\n",
       "      <th>time_seconds</th>\n",
       "      <th>team_id</th>\n",
       "      <th>player_id</th>\n",
       "      <th>start_x</th>\n",
       "      <th>start_y</th>\n",
       "      <th>end_x</th>\n",
       "      <th>end_y</th>\n",
       "      <th>original_event_id</th>\n",
       "      <th>bodypart_id</th>\n",
       "      <th>type_id</th>\n",
       "      <th>result_id</th>\n",
       "    </tr>\n",
       "    <tr>\n",
       "      <th>action_id</th>\n",
       "      <th></th>\n",
       "      <th></th>\n",
       "      <th></th>\n",
       "      <th></th>\n",
       "      <th></th>\n",
       "      <th></th>\n",
       "      <th></th>\n",
       "      <th></th>\n",
       "      <th></th>\n",
       "      <th></th>\n",
       "      <th></th>\n",
       "      <th></th>\n",
       "      <th></th>\n",
       "    </tr>\n",
       "  </thead>\n",
       "  <tbody>\n",
       "    <tr>\n",
       "      <th>0</th>\n",
       "      <td>2576335</td>\n",
       "      <td>1</td>\n",
       "      <td>2.417590</td>\n",
       "      <td>3161</td>\n",
       "      <td>3344</td>\n",
       "      <td>53.55</td>\n",
       "      <td>34.00</td>\n",
       "      <td>65.10</td>\n",
       "      <td>39.44</td>\n",
       "      <td>253668302</td>\n",
       "      <td>0</td>\n",
       "      <td>0</td>\n",
       "      <td>1</td>\n",
       "    </tr>\n",
       "    <tr>\n",
       "      <th>1</th>\n",
       "      <td>2576335</td>\n",
       "      <td>1</td>\n",
       "      <td>3.904412</td>\n",
       "      <td>3161</td>\n",
       "      <td>116349</td>\n",
       "      <td>65.10</td>\n",
       "      <td>39.44</td>\n",
       "      <td>66.15</td>\n",
       "      <td>61.88</td>\n",
       "      <td>253668303</td>\n",
       "      <td>0</td>\n",
       "      <td>0</td>\n",
       "      <td>1</td>\n",
       "    </tr>\n",
       "    <tr>\n",
       "      <th>2</th>\n",
       "      <td>2576335</td>\n",
       "      <td>1</td>\n",
       "      <td>6.484211</td>\n",
       "      <td>3161</td>\n",
       "      <td>135903</td>\n",
       "      <td>66.15</td>\n",
       "      <td>61.88</td>\n",
       "      <td>69.30</td>\n",
       "      <td>48.96</td>\n",
       "      <td>253668304</td>\n",
       "      <td>0</td>\n",
       "      <td>0</td>\n",
       "      <td>1</td>\n",
       "    </tr>\n",
       "    <tr>\n",
       "      <th>3</th>\n",
       "      <td>2576335</td>\n",
       "      <td>1</td>\n",
       "      <td>10.043835</td>\n",
       "      <td>3161</td>\n",
       "      <td>138408</td>\n",
       "      <td>69.30</td>\n",
       "      <td>48.96</td>\n",
       "      <td>67.20</td>\n",
       "      <td>9.52</td>\n",
       "      <td>253668306</td>\n",
       "      <td>0</td>\n",
       "      <td>0</td>\n",
       "      <td>1</td>\n",
       "    </tr>\n",
       "    <tr>\n",
       "      <th>4</th>\n",
       "      <td>2576335</td>\n",
       "      <td>1</td>\n",
       "      <td>14.032070</td>\n",
       "      <td>3161</td>\n",
       "      <td>21094</td>\n",
       "      <td>67.20</td>\n",
       "      <td>9.52</td>\n",
       "      <td>73.50</td>\n",
       "      <td>26.52</td>\n",
       "      <td>253668308</td>\n",
       "      <td>0</td>\n",
       "      <td>0</td>\n",
       "      <td>1</td>\n",
       "    </tr>\n",
       "  </tbody>\n",
       "</table>\n",
       "</div>"
      ],
      "text/plain": [
       "           game_id  period_id  time_seconds  team_id  player_id  start_x  \\\n",
       "action_id                                                                  \n",
       "0          2576335          1      2.417590     3161       3344    53.55   \n",
       "1          2576335          1      3.904412     3161     116349    65.10   \n",
       "2          2576335          1      6.484211     3161     135903    66.15   \n",
       "3          2576335          1     10.043835     3161     138408    69.30   \n",
       "4          2576335          1     14.032070     3161      21094    67.20   \n",
       "\n",
       "           start_y  end_x  end_y original_event_id  bodypart_id  type_id  \\\n",
       "action_id                                                                  \n",
       "0            34.00  65.10  39.44         253668302            0        0   \n",
       "1            39.44  66.15  61.88         253668303            0        0   \n",
       "2            61.88  69.30  48.96         253668304            0        0   \n",
       "3            48.96  67.20   9.52         253668306            0        0   \n",
       "4             9.52  73.50  26.52         253668308            0        0   \n",
       "\n",
       "           result_id  \n",
       "action_id             \n",
       "0                  1  \n",
       "1                  1  \n",
       "2                  1  \n",
       "3                  1  \n",
       "4                  1  "
      ]
     },
     "execution_count": 13,
     "metadata": {},
     "output_type": "execute_result"
    }
   ],
   "source": [
    "dataset.actions(game_id=2576335).head()"
   ]
  },
  {
   "cell_type": "code",
   "execution_count": 14,
   "metadata": {
    "tags": []
   },
   "outputs": [],
   "source": [
    "dataset.close()"
   ]
  }
 ],
 "metadata": {
  "kernelspec": {
   "display_name": "soccer_xg",
   "language": "python",
   "name": "soccer_xg"
  },
  "language_info": {
   "codemirror_mode": {
    "name": "ipython",
    "version": 3
   },
   "file_extension": ".py",
   "mimetype": "text/x-python",
   "name": "python",
   "nbconvert_exporter": "python",
   "pygments_lexer": "ipython3",
   "version": "3.11.1"
  },
  "toc": {
   "base_numbering": 1,
   "nav_menu": {},
   "number_sections": true,
   "sideBar": true,
   "skip_h1_title": false,
   "title_cell": "Table of Contents",
   "title_sidebar": "Contents",
   "toc_cell": false,
   "toc_position": {},
   "toc_section_display": true,
   "toc_window_display": true
  }
 },
 "nbformat": 4,
 "nbformat_minor": 4
}
