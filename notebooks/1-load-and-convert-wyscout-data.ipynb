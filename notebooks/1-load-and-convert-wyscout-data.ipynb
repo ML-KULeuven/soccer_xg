{
 "cells": [
  {
   "cell_type": "markdown",
   "metadata": {},
   "source": [
    "# Data Preparation\n",
    "\n",
    "This notebook downloads the opensource [Wyscoutmatch event dataset](https://figshare.com/collections/Soccer_match_event_dataset/4415000/2) and converts it to the [SPADL format](https://github.com/ML-KULeuven/socceraction). This dataset contains all spatio-temporal events (passes, shots, fouls, etc.) that occured during all matches of the 2017/18 season of the top-5 European leagues (La Liga, Serie A, Bundesliga, Premier League, Ligue 1) as well as the FIFA World Cup 2018 and UEFA Euro Cup 2016."
   ]
  },
  {
   "cell_type": "markdown",
   "metadata": {},
   "source": [
    "**Disclaimer**: this notebook is compatible with [v5 of the Soccer match event dataset](https://figshare.com/collections/Soccer_match_event_dataset/4415000/5) and the following package versions:\n",
    "\n",
    "- tqdm 4.42.1\n",
    "- pandas 1.0\n",
    "- socceraction 0.1.1"
   ]
  },
  {
   "cell_type": "code",
   "execution_count": 11,
   "metadata": {},
   "outputs": [],
   "source": [
    "import os\n",
    "import sys\n",
    "\n",
    "from tqdm.notebook import tqdm\n",
    "\n",
    "import math\n",
    "\n",
    "import pandas as pd\n",
    "pd.set_option('display.max_columns', None)\n",
    "\n",
    "from io import BytesIO\n",
    "from pathlib import Path\n",
    "\n",
    "from urllib.parse import urlparse\n",
    "from urllib.request import urlopen, urlretrieve\n",
    "# optional: if you get a SSL CERTIFICATE_VERIFY_FAILED exception\n",
    "import ssl; ssl._create_default_https_context = ssl._create_unverified_context\n",
    "\n",
    "from zipfile import ZipFile, is_zipfile\n",
    "\n",
    "import socceraction.spadl as spadl\n",
    "import socceraction.spadl.wyscout as wyscout"
   ]
  },
  {
   "cell_type": "markdown",
   "metadata": {},
   "source": [
    "## Configure leagues and seasons to download and convert\n",
    "The two dictionaries below map my internal season and league IDs to Wyscout's IDs. Using an internal ID makes it easier to work with data from multiple providers."
   ]
  },
  {
   "cell_type": "code",
   "execution_count": 12,
   "metadata": {},
   "outputs": [],
   "source": [
    "seasons = {\n",
    "    181248: '1718',\n",
    "    181150: '1718',\n",
    "    181144: '1718',\n",
    "    181189: '1718',\n",
    "    181137: '1718'\n",
    "}\n",
    "leagues = {\n",
    "    'England':'ENG',\n",
    "    'France':'FRA',\n",
    "    'Germany':'GER',\n",
    "    'Italy':'ITA',\n",
    "    'Spain':'ESP'\n",
    "}"
   ]
  },
  {
   "cell_type": "markdown",
   "metadata": {},
   "source": [
    "## Configure folder names and download URLs\n",
    "\n",
    "The two cells below define the URLs from where the data are downloaded and were data is stored."
   ]
  },
  {
   "cell_type": "code",
   "execution_count": 13,
   "metadata": {},
   "outputs": [],
   "source": [
    "# https://figshare.com/collections/Soccer_match_event_dataset/4415000/5\n",
    "dataset_urls = dict(\n",
    "    competitions = \"https://ndownloader.figshare.com/files/15073685\",\n",
    "    teams = \"https://ndownloader.figshare.com/files/15073697\",\n",
    "    players = \"https://ndownloader.figshare.com/files/15073721\",\n",
    "    matches = \"https://ndownloader.figshare.com/files/14464622\",\n",
    "    events = \"https://ndownloader.figshare.com/files/14464685\"\n",
    ")"
   ]
  },
  {
   "cell_type": "code",
   "execution_count": 14,
   "metadata": {},
   "outputs": [],
   "source": [
    "raw_datafolder = \"../data/wyscout_opensource/raw\"\n",
    "spadl_datafolder = \"../data/wyscout_opensource\"\n",
    "\n",
    "# Create data folder if it doesn't exist\n",
    "for d in [raw_datafolder, spadl_datafolder]:\n",
    "    if not os.path.exists(d):\n",
    "        os.makedirs(d, exist_ok=True)\n",
    "        print(f\"Directory {d} created \")"
   ]
  },
  {
   "cell_type": "markdown",
   "metadata": {},
   "source": [
    "## Download WyScout data \n",
    "\n",
    "The following cell loops through the dataset_urls dict and stores each downloaded data file to the `raw_datafolder` in the local file system.\n",
    "\n",
    "If the downloaded data file is a ZIP archive, the included JSON files are extracted from the ZIP archive."
   ]
  },
  {
   "cell_type": "code",
   "execution_count": 15,
   "metadata": {},
   "outputs": [
    {
     "data": {
      "application/vnd.jupyter.widget-view+json": {
       "model_id": "ff51207484174bffbc24d14fde05ca2b",
       "version_major": 2,
       "version_minor": 0
      },
      "text/plain": [
       "HBox(children=(FloatProgress(value=0.0, max=5.0), HTML(value='')))"
      ]
     },
     "metadata": {},
     "output_type": "display_data"
    },
    {
     "name": "stdout",
     "output_type": "stream",
     "text": [
      "\n",
      "Downloaded files:\n"
     ]
    },
    {
     "data": {
      "text/plain": [
       "['events_France.json',\n",
       " 'events_England.json',\n",
       " 'events.zip',\n",
       " 'eventid2name.csv',\n",
       " 'coaches.json',\n",
       " 'tags2name.csv',\n",
       " 'competitions.json',\n",
       " 'referees.json',\n",
       " 'matches_Germany.json',\n",
       " 'events_Italy.json',\n",
       " 'matches.zip',\n",
       " 'matches_Italy.json',\n",
       " 'events_European_Championship.json',\n",
       " 'teams.json',\n",
       " 'matches_France.json',\n",
       " 'events_Germany.json',\n",
       " 'events_Spain.json',\n",
       " 'events_World_Cup.json',\n",
       " 'players.json',\n",
       " 'matches_World_Cup.json',\n",
       " 'matches_European_Championship.json',\n",
       " 'matches_England.json',\n",
       " 'matches_Spain.json']"
      ]
     },
     "execution_count": 15,
     "metadata": {},
     "output_type": "execute_result"
    }
   ],
   "source": [
    "for url in tqdm(dataset_urls.values()):\n",
    "    url_obj = urlopen(url).geturl()\n",
    "    path = Path(urlparse(url_obj).path)\n",
    "    file_name = os.path.join(raw_datafolder, path.name)\n",
    "    file_local, _ = urlretrieve(url_obj, file_name)\n",
    "    if is_zipfile(file_local):\n",
    "        with ZipFile(file_local) as zip_file:\n",
    "            zip_file.extractall(raw_datafolder)\n",
    "\n",
    "print(\"Downloaded files:\")\n",
    "os.listdir(raw_datafolder)"
   ]
  },
  {
   "cell_type": "markdown",
   "metadata": {},
   "source": [
    "## Preprocess Wyscout data"
   ]
  },
  {
   "cell_type": "markdown",
   "metadata": {},
   "source": [
    "The read_json_file function reads and returns the content of a given JSON file. The function handles the encoding of special characters (e.g., accents in names of players and teams) that the pd.read_json function cannot handle properly."
   ]
  },
  {
   "cell_type": "code",
   "execution_count": 16,
   "metadata": {},
   "outputs": [],
   "source": [
    "def read_json_file(filename):\n",
    "    with open(filename, 'rb') as json_file:\n",
    "        return BytesIO(json_file.read()).getvalue().decode('unicode_escape')"
   ]
  },
  {
   "cell_type": "markdown",
   "metadata": {},
   "source": [
    "Wyscout does not distinguish between headers and other body\n",
    "parts on shots. The socceraction convertor simply labels all\n",
    "shots as performed by foot. I think it is better to label \n",
    "them as headers."
   ]
  },
  {
   "cell_type": "code",
   "execution_count": 17,
   "metadata": {},
   "outputs": [],
   "source": [
    "def determine_bodypart_id(event):\n",
    "    \"\"\"\n",
    "    This function determines the body part used for an event\n",
    "    Args:\n",
    "    event (pd.Series): Wyscout event Series\n",
    "    Returns:\n",
    "    int: id of the body part used for the action\n",
    "    \"\"\"\n",
    "    if event[\"subtype_id\"] in [81, 36, 21, 90, 91]:\n",
    "        body_part = \"other\"\n",
    "    elif event[\"subtype_id\"] == 82 or event['head/body']:\n",
    "        body_part = \"head\"\n",
    "    else:  # all other cases\n",
    "        body_part = \"foot\"\n",
    "    return spadl.config.bodyparts.index(body_part)\n",
    "wyscout.determine_bodypart_id = determine_bodypart_id"
   ]
  },
  {
   "cell_type": "markdown",
   "metadata": {},
   "source": [
    "### Select competitions to load and convert"
   ]
  },
  {
   "cell_type": "code",
   "execution_count": 18,
   "metadata": {},
   "outputs": [
    {
     "data": {
      "text/plain": [
       "{'England',\n",
       " 'European Championship',\n",
       " 'France',\n",
       " 'Germany',\n",
       " 'Italy',\n",
       " 'Spain',\n",
       " 'World Cup'}"
      ]
     },
     "execution_count": 18,
     "metadata": {},
     "output_type": "execute_result"
    }
   ],
   "source": [
    "json_competitions = read_json_file(f\"{raw_datafolder}/competitions.json\")\n",
    "df_competitions = pd.read_json(json_competitions)\n",
    "# Rename competitions to the names used in the file names\n",
    "df_competitions['name'] = df_competitions.apply(lambda x: x.area['name'] if x.area['name'] != \"\" else x['name'], axis=1)\n",
    "df_competitions['id'] = df_competitions.apply(lambda x: leagues.get(x.area['name'], 'NULL'), axis=1)\n",
    "# View all available competitions\n",
    "set(df_competitions.name)"
   ]
  },
  {
   "cell_type": "code",
   "execution_count": 19,
   "metadata": {},
   "outputs": [
    {
     "data": {
      "text/html": [
       "<div>\n",
       "<style scoped>\n",
       "    .dataframe tbody tr th:only-of-type {\n",
       "        vertical-align: middle;\n",
       "    }\n",
       "\n",
       "    .dataframe tbody tr th {\n",
       "        vertical-align: top;\n",
       "    }\n",
       "\n",
       "    .dataframe thead th {\n",
       "        text-align: right;\n",
       "    }\n",
       "</style>\n",
       "<table border=\"1\" class=\"dataframe\">\n",
       "  <thead>\n",
       "    <tr style=\"text-align: right;\">\n",
       "      <th></th>\n",
       "      <th>name</th>\n",
       "      <th>wyId</th>\n",
       "      <th>format</th>\n",
       "      <th>area</th>\n",
       "      <th>type</th>\n",
       "      <th>id</th>\n",
       "    </tr>\n",
       "  </thead>\n",
       "  <tbody>\n",
       "    <tr>\n",
       "      <th>0</th>\n",
       "      <td>Italy</td>\n",
       "      <td>524</td>\n",
       "      <td>Domestic league</td>\n",
       "      <td>{'name': 'Italy', 'id': '380', 'alpha3code': '...</td>\n",
       "      <td>club</td>\n",
       "      <td>ITA</td>\n",
       "    </tr>\n",
       "    <tr>\n",
       "      <th>1</th>\n",
       "      <td>England</td>\n",
       "      <td>364</td>\n",
       "      <td>Domestic league</td>\n",
       "      <td>{'name': 'England', 'id': '0', 'alpha3code': '...</td>\n",
       "      <td>club</td>\n",
       "      <td>ENG</td>\n",
       "    </tr>\n",
       "    <tr>\n",
       "      <th>2</th>\n",
       "      <td>Spain</td>\n",
       "      <td>795</td>\n",
       "      <td>Domestic league</td>\n",
       "      <td>{'name': 'Spain', 'id': '724', 'alpha3code': '...</td>\n",
       "      <td>club</td>\n",
       "      <td>ESP</td>\n",
       "    </tr>\n",
       "    <tr>\n",
       "      <th>3</th>\n",
       "      <td>France</td>\n",
       "      <td>412</td>\n",
       "      <td>Domestic league</td>\n",
       "      <td>{'name': 'France', 'id': '250', 'alpha3code': ...</td>\n",
       "      <td>club</td>\n",
       "      <td>FRA</td>\n",
       "    </tr>\n",
       "    <tr>\n",
       "      <th>4</th>\n",
       "      <td>Germany</td>\n",
       "      <td>426</td>\n",
       "      <td>Domestic league</td>\n",
       "      <td>{'name': 'Germany', 'id': '276', 'alpha3code':...</td>\n",
       "      <td>club</td>\n",
       "      <td>GER</td>\n",
       "    </tr>\n",
       "  </tbody>\n",
       "</table>\n",
       "</div>"
      ],
      "text/plain": [
       "      name  wyId           format  \\\n",
       "0    Italy   524  Domestic league   \n",
       "1  England   364  Domestic league   \n",
       "2    Spain   795  Domestic league   \n",
       "3   France   412  Domestic league   \n",
       "4  Germany   426  Domestic league   \n",
       "\n",
       "                                                area  type   id  \n",
       "0  {'name': 'Italy', 'id': '380', 'alpha3code': '...  club  ITA  \n",
       "1  {'name': 'England', 'id': '0', 'alpha3code': '...  club  ENG  \n",
       "2  {'name': 'Spain', 'id': '724', 'alpha3code': '...  club  ESP  \n",
       "3  {'name': 'France', 'id': '250', 'alpha3code': ...  club  FRA  \n",
       "4  {'name': 'Germany', 'id': '276', 'alpha3code':...  club  GER  "
      ]
     },
     "execution_count": 19,
     "metadata": {},
     "output_type": "execute_result"
    }
   ],
   "source": [
    "df_selected_competitions = df_competitions[df_competitions.name.isin(\n",
    "    leagues.keys()\n",
    ")]\n",
    "df_selected_competitions"
   ]
  },
  {
   "cell_type": "markdown",
   "metadata": {},
   "source": [
    "## Convert to the SPADL format"
   ]
  },
  {
   "cell_type": "code",
   "execution_count": 22,
   "metadata": {},
   "outputs": [
    {
     "name": "stdout",
     "output_type": "stream",
     "text": [
      "Converting ITA 1718\n"
     ]
    },
    {
     "data": {
      "application/vnd.jupyter.widget-view+json": {
       "model_id": "1ab744a7c2ae49959e710b309b62cb1a",
       "version_major": 2,
       "version_minor": 0
      },
      "text/plain": [
       "HBox(children=(FloatProgress(value=0.0, max=380.0), HTML(value='')))"
      ]
     },
     "metadata": {},
     "output_type": "display_data"
    },
    {
     "name": "stdout",
     "output_type": "stream",
     "text": [
      "\n",
      "Converting ENG 1718\n"
     ]
    },
    {
     "data": {
      "application/vnd.jupyter.widget-view+json": {
       "model_id": "50692b69f4da415397980283ea063570",
       "version_major": 2,
       "version_minor": 0
      },
      "text/plain": [
       "HBox(children=(FloatProgress(value=0.0, max=380.0), HTML(value='')))"
      ]
     },
     "metadata": {},
     "output_type": "display_data"
    },
    {
     "name": "stdout",
     "output_type": "stream",
     "text": [
      "\n",
      "Converting ESP 1718\n"
     ]
    },
    {
     "data": {
      "application/vnd.jupyter.widget-view+json": {
       "model_id": "f8357efe4bb34d7981647a9dea4acb43",
       "version_major": 2,
       "version_minor": 0
      },
      "text/plain": [
       "HBox(children=(FloatProgress(value=0.0, max=380.0), HTML(value='')))"
      ]
     },
     "metadata": {},
     "output_type": "display_data"
    },
    {
     "name": "stdout",
     "output_type": "stream",
     "text": [
      "\n",
      "Converting FRA 1718\n"
     ]
    },
    {
     "data": {
      "application/vnd.jupyter.widget-view+json": {
       "model_id": "758211fbdae845cab30001d48dba442c",
       "version_major": 2,
       "version_minor": 0
      },
      "text/plain": [
       "HBox(children=(FloatProgress(value=0.0, max=380.0), HTML(value='')))"
      ]
     },
     "metadata": {},
     "output_type": "display_data"
    },
    {
     "name": "stdout",
     "output_type": "stream",
     "text": [
      "\n",
      "Converting GER 1718\n"
     ]
    },
    {
     "data": {
      "application/vnd.jupyter.widget-view+json": {
       "model_id": "f4594b50fcd948d9a371a3f8fa47dd65",
       "version_major": 2,
       "version_minor": 0
      },
      "text/plain": [
       "HBox(children=(FloatProgress(value=0.0, max=306.0), HTML(value='')))"
      ]
     },
     "metadata": {},
     "output_type": "display_data"
    },
    {
     "name": "stdout",
     "output_type": "stream",
     "text": [
      "\n"
     ]
    }
   ],
   "source": [
    "json_teams = read_json_file(f\"{raw_datafolder}/teams.json\")\n",
    "df_teams = wyscout.convert_teams(pd.read_json(json_teams))\n",
    "\n",
    "json_players = read_json_file(f\"{raw_datafolder}/players.json\")\n",
    "df_players = wyscout.convert_players(pd.read_json(json_players))\n",
    "\n",
    "\n",
    "for competition in df_selected_competitions.itertuples():\n",
    "    json_matches = read_json_file(f\"{raw_datafolder}/matches_{competition.name}.json\")\n",
    "    df_matches = pd.read_json(json_matches)\n",
    "    season_id = seasons[df_matches.seasonId.unique()[0]]\n",
    "    df_games =  wyscout.convert_games(df_matches)\n",
    "    df_games['competition_id'] = competition.id\n",
    "    df_games['season_id'] = season_id\n",
    "    \n",
    "    json_events = read_json_file(f\"{raw_datafolder}/events_{competition.name}.json\")\n",
    "    df_events = pd.read_json(json_events).groupby('matchId', as_index=False)\n",
    "    \n",
    "    player_games = []\n",
    "    \n",
    "    spadl_h5 = os.path.join(spadl_datafolder, f\"spadl-wyscout_opensource-{competition.id}-{season_id}.h5\")\n",
    "\n",
    "    # Store all spadl data in h5-file\n",
    "    print(f\"Converting {competition.id} {season_id}\")\n",
    "    with pd.HDFStore(spadl_h5) as spadlstore:\n",
    "        \n",
    "        spadlstore[\"actiontypes\"] = spadl.actiontypes_df()\n",
    "        spadlstore[\"results\"] = spadl.results_df()\n",
    "        spadlstore[\"bodyparts\"] = spadl.bodyparts_df()\n",
    "        spadlstore[\"games\"] = df_games\n",
    "\n",
    "        for game in tqdm(list(df_games.itertuples())):\n",
    "            game_id = game.game_id\n",
    "            game_events = df_events.get_group(game_id)\n",
    "\n",
    "            # filter the players that were lined up in this season\n",
    "            player_games.append(wyscout.get_player_games(df_matches[df_matches.wyId == game_id].iloc[0], game_events))\n",
    "\n",
    "            # convert events to SPADL actions\n",
    "            home_team = game.home_team_id\n",
    "            df_actions = wyscout.convert_actions(game_events, home_team)\n",
    "            df_actions[\"action_id\"] = range(len(df_actions))\n",
    "            spadlstore[f\"actions/game_{game_id}\"] = df_actions\n",
    "\n",
    "        player_games = pd.concat(player_games).reset_index(drop=True)  \n",
    "        spadlstore[\"player_games\"] = player_games\n",
    "        spadlstore[\"players\"] = df_players[df_players.player_id.isin(player_games.player_id)]\n",
    "        spadlstore[\"teams\"] = df_teams[df_teams.team_id.isin(df_games.home_team_id) | df_teams.team_id.isin(df_games.away_team_id)]"
   ]
  },
  {
   "cell_type": "code",
   "execution_count": null,
   "metadata": {},
   "outputs": [],
   "source": []
  }
 ],
 "metadata": {
  "kernelspec": {
   "display_name": "soccer_dataprovider_comparison",
   "language": "python",
   "name": "soccer_dataprovider_comparison"
  },
  "language_info": {
   "codemirror_mode": {
    "name": "ipython",
    "version": 3
   },
   "file_extension": ".py",
   "mimetype": "text/x-python",
   "name": "python",
   "nbconvert_exporter": "python",
   "pygments_lexer": "ipython3",
   "version": "3.6.2"
  },
  "toc": {
   "base_numbering": 1,
   "nav_menu": {},
   "number_sections": true,
   "sideBar": true,
   "skip_h1_title": false,
   "title_cell": "Table of Contents",
   "title_sidebar": "Contents",
   "toc_cell": false,
   "toc_position": {},
   "toc_section_display": true,
   "toc_window_display": true
  }
 },
 "nbformat": 4,
 "nbformat_minor": 2
}
