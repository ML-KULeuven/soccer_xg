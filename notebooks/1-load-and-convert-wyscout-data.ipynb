{
 "cells": [
  {
   "cell_type": "markdown",
   "metadata": {},
   "source": [
    "# Wyscout Data Preparation\n",
    "\n",
    "This notebook downloads the opensource [Wyscout match event dataset](https://figshare.com/collections/Soccer_match_event_dataset/4415000/2) and converts it to the [SPADL format](https://github.com/ML-KULeuven/socceraction). This dataset contains all spatiotemporal events (passes, shots, fouls, etc.) that occured during all matches of the 2017/18 season of the top-5 European leagues (La Liga, Serie A, Bundesliga, Premier League, Ligue 1) as well as the FIFA World Cup 2018 and UEFA Euro Cup 2016."
   ]
  },
  {
   "cell_type": "code",
   "execution_count": 1,
   "metadata": {
    "tags": []
   },
   "outputs": [],
   "source": [
    "from pathlib import Path\n",
    "\n",
    "from socceraction.data.wyscout import PublicWyscoutLoader\n",
    "from socceraction.spadl.wyscout import convert_to_actions"
   ]
  },
  {
   "cell_type": "code",
   "execution_count": 2,
   "metadata": {
    "tags": []
   },
   "outputs": [
    {
     "name": "stderr",
     "output_type": "stream",
     "text": [
      "/cw/dtaijupiter/NoCsBack/dtai/pieterr/Projects/soccer_xg/.venv/lib/python3.11/site-packages/tqdm/auto.py:21: TqdmWarning: IProgress not found. Please update jupyter and ipywidgets. See https://ipywidgets.readthedocs.io/en/stable/user_install.html\n",
      "  from .autonotebook import tqdm as notebook_tqdm\n"
     ]
    }
   ],
   "source": [
    "%load_ext autoreload\n",
    "%autoreload 2\n",
    "\n",
    "from soccer_xg.data import HDFDataset"
   ]
  },
  {
   "cell_type": "markdown",
   "metadata": {},
   "source": [
    "## Configuration\n",
    "We will load all matches of the 2017/18 season of the top-5 European leagues."
   ]
  },
  {
   "cell_type": "code",
   "execution_count": 3,
   "metadata": {
    "tags": []
   },
   "outputs": [],
   "source": [
    "comps = [\n",
    "    { \"league\": { \"name\": \"ITA\", \"wy_id\": 524 }, \"season\": { \"name\": \"1718\", \"wy_id\": 181248 } },\n",
    "    { \"league\": { \"name\": \"ENG\", \"wy_id\": 364 }, \"season\": { \"name\": \"1718\", \"wy_id\": 181150 } },\n",
    "    { \"league\": { \"name\": \"ESP\", \"wy_id\": 795 }, \"season\": { \"name\": \"1718\", \"wy_id\": 181144 } },\n",
    "    { \"league\": { \"name\": \"FRA\", \"wy_id\": 412 }, \"season\": { \"name\": \"1718\", \"wy_id\": 181189 } },\n",
    "    { \"league\": { \"name\": \"GER\", \"wy_id\": 426 }, \"season\": { \"name\": \"1718\", \"wy_id\": 181137 } }\n",
    "]"
   ]
  },
  {
   "cell_type": "markdown",
   "metadata": {},
   "source": [
    "The cell below defines where the data will be stored."
   ]
  },
  {
   "cell_type": "code",
   "execution_count": 4,
   "metadata": {
    "tags": []
   },
   "outputs": [],
   "source": [
    "raw_datafolder = Path(\"../data/wyscout/raw\")\n",
    "spadl_datafolder = Path(\"../data\")\n",
    "\n",
    "# Create data folder if it doesn't exist\n",
    "raw_datafolder.mkdir(parents=True, exist_ok=True)\n",
    "spadl_datafolder.mkdir(parents=True, exist_ok=True)"
   ]
  },
  {
   "cell_type": "markdown",
   "metadata": {},
   "source": [
    "## Set up a data loader\n",
    "\n",
    "We use the [API clients included in the socceraction library](https://socceraction.readthedocs.io/en/latest/documentation/data/index.html) to fetch data. These clients enable fetching event streams and their corresponding metadata as Pandas DataFrames using a unified data model. Below we setup a data loader to fetch data from the public Wyscout dataset."
   ]
  },
  {
   "cell_type": "code",
   "execution_count": 5,
   "metadata": {
    "tags": []
   },
   "outputs": [],
   "source": [
    "WYL = PublicWyscoutLoader(root=raw_datafolder)"
   ]
  },
  {
   "cell_type": "markdown",
   "metadata": {},
   "source": [
    "Let's fetch all available competitions and check whether we've set the correct IDs above."
   ]
  },
  {
   "cell_type": "code",
   "execution_count": 6,
   "metadata": {
    "tags": []
   },
   "outputs": [
    {
     "data": {
      "text/plain": [
       "{'English first division',\n",
       " 'European Championship',\n",
       " 'French first division',\n",
       " 'German first division',\n",
       " 'Italian first division',\n",
       " 'Spanish first division',\n",
       " 'World Cup'}"
      ]
     },
     "execution_count": 6,
     "metadata": {},
     "output_type": "execute_result"
    }
   ],
   "source": [
    "# View all available competitions\n",
    "df_competitions = WYL.competitions()\n",
    "set(df_competitions.competition_name)"
   ]
  },
  {
   "cell_type": "code",
   "execution_count": 7,
   "metadata": {
    "tags": []
   },
   "outputs": [
    {
     "data": {
      "text/html": [
       "<div>\n",
       "<style scoped>\n",
       "    .dataframe tbody tr th:only-of-type {\n",
       "        vertical-align: middle;\n",
       "    }\n",
       "\n",
       "    .dataframe tbody tr th {\n",
       "        vertical-align: top;\n",
       "    }\n",
       "\n",
       "    .dataframe thead th {\n",
       "        text-align: right;\n",
       "    }\n",
       "</style>\n",
       "<table border=\"1\" class=\"dataframe\">\n",
       "  <thead>\n",
       "    <tr style=\"text-align: right;\">\n",
       "      <th></th>\n",
       "      <th></th>\n",
       "      <th>country_name</th>\n",
       "      <th>competition_name</th>\n",
       "      <th>competition_gender</th>\n",
       "      <th>season_name</th>\n",
       "    </tr>\n",
       "    <tr>\n",
       "      <th>competition_id</th>\n",
       "      <th>season_id</th>\n",
       "      <th></th>\n",
       "      <th></th>\n",
       "      <th></th>\n",
       "      <th></th>\n",
       "    </tr>\n",
       "  </thead>\n",
       "  <tbody>\n",
       "    <tr>\n",
       "      <th>524</th>\n",
       "      <th>181248</th>\n",
       "      <td>Italy</td>\n",
       "      <td>Italian first division</td>\n",
       "      <td>male</td>\n",
       "      <td>2017/2018</td>\n",
       "    </tr>\n",
       "    <tr>\n",
       "      <th>364</th>\n",
       "      <th>181150</th>\n",
       "      <td>England</td>\n",
       "      <td>English first division</td>\n",
       "      <td>male</td>\n",
       "      <td>2017/2018</td>\n",
       "    </tr>\n",
       "    <tr>\n",
       "      <th>795</th>\n",
       "      <th>181144</th>\n",
       "      <td>Spain</td>\n",
       "      <td>Spanish first division</td>\n",
       "      <td>male</td>\n",
       "      <td>2017/2018</td>\n",
       "    </tr>\n",
       "    <tr>\n",
       "      <th>412</th>\n",
       "      <th>181189</th>\n",
       "      <td>France</td>\n",
       "      <td>French first division</td>\n",
       "      <td>male</td>\n",
       "      <td>2017/2018</td>\n",
       "    </tr>\n",
       "    <tr>\n",
       "      <th>426</th>\n",
       "      <th>181137</th>\n",
       "      <td>Germany</td>\n",
       "      <td>German first division</td>\n",
       "      <td>male</td>\n",
       "      <td>2017/2018</td>\n",
       "    </tr>\n",
       "  </tbody>\n",
       "</table>\n",
       "</div>"
      ],
      "text/plain": [
       "                         country_name        competition_name  \\\n",
       "competition_id season_id                                        \n",
       "524            181248           Italy  Italian first division   \n",
       "364            181150         England  English first division   \n",
       "795            181144           Spain  Spanish first division   \n",
       "412            181189          France   French first division   \n",
       "426            181137         Germany   German first division   \n",
       "\n",
       "                         competition_gender season_name  \n",
       "competition_id season_id                                 \n",
       "524            181248                  male   2017/2018  \n",
       "364            181150                  male   2017/2018  \n",
       "795            181144                  male   2017/2018  \n",
       "412            181189                  male   2017/2018  \n",
       "426            181137                  male   2017/2018  "
      ]
     },
     "execution_count": 7,
     "metadata": {},
     "output_type": "execute_result"
    }
   ],
   "source": [
    "df_competitions \\\n",
    " .set_index([\"competition_id\", \"season_id\"]) \\\n",
    " .loc[[(c['league']['wy_id'], c['season']['wy_id']) for c in comps]]"
   ]
  },
  {
   "cell_type": "markdown",
   "metadata": {},
   "source": [
    "## Download and store data"
   ]
  },
  {
   "cell_type": "code",
   "execution_count": 8,
   "metadata": {},
   "outputs": [
    {
     "name": "stdout",
     "output_type": "stream",
     "text": [
      "Importing ITA 1718 ...\n"
     ]
    },
    {
     "name": "stderr",
     "output_type": "stream",
     "text": [
      "Loading game data...:  86%|█████████████████████████████████████████████████████████████████████████████████████████████████████████████████████████████████████████████████████████████████████████████████████▌                             | 327/380 [05:01<00:50,  1.06it/s]/cw/dtaijupiter/NoCsBack/dtai/pieterr/Projects/soccer_xg/.venv/lib/python3.11/site-packages/socceraction/data/wyscout/loader.py:281: UserWarning: A player with ID=0 was substituted in the 90th minute of game 2576016, but could not be found on the bench.\n",
      "  warnings.warn(\n",
      "Loading game data...:  98%|███████████████████████████████████████████████████████████████████████████████████████████████████████████████████████████████████████████████████████████████████████████████████████████████████████████████    | 373/380 [05:42<00:05,  1.20it/s]/cw/dtaijupiter/NoCsBack/dtai/pieterr/Projects/soccer_xg/.venv/lib/python3.11/site-packages/socceraction/data/wyscout/loader.py:281: UserWarning: A player with ID=0 was substituted in the 56th minute of game 2575965, but could not be found on the bench.\n",
      "  warnings.warn(\n",
      "/cw/dtaijupiter/NoCsBack/dtai/pieterr/Projects/soccer_xg/.venv/lib/python3.11/site-packages/socceraction/data/wyscout/loader.py:281: UserWarning: A player with ID=0 was substituted in the 62th minute of game 2575965, but could not be found on the bench.\n",
      "  warnings.warn(\n",
      "/cw/dtaijupiter/NoCsBack/dtai/pieterr/Projects/soccer_xg/.venv/lib/python3.11/site-packages/socceraction/data/wyscout/loader.py:281: UserWarning: A player with ID=0 was substituted in the 88th minute of game 2575965, but could not be found on the bench.\n",
      "  warnings.warn(\n",
      "Loading game data...:  99%|█████████████████████████████████████████████████████████████████████████████████████████████████████████████████████████████████████████████████████████████████████████████████████████████████████████████████▎ | 377/380 [05:46<00:02,  1.03it/s]/cw/dtaijupiter/NoCsBack/dtai/pieterr/Projects/soccer_xg/.venv/lib/python3.11/site-packages/socceraction/data/wyscout/loader.py:281: UserWarning: A player with ID=0 was substituted in the 74th minute of game 2575959, but could not be found on the bench.\n",
      "  warnings.warn(\n",
      "/cw/dtaijupiter/NoCsBack/dtai/pieterr/Projects/soccer_xg/.venv/lib/python3.11/site-packages/socceraction/data/wyscout/loader.py:281: UserWarning: A player with ID=0 was substituted in the 81th minute of game 2575959, but could not be found on the bench.\n",
      "  warnings.warn(\n",
      "/cw/dtaijupiter/NoCsBack/dtai/pieterr/Projects/soccer_xg/.venv/lib/python3.11/site-packages/socceraction/data/wyscout/loader.py:281: UserWarning: A player with ID=0 was substituted in the 84th minute of game 2575959, but could not be found on the bench.\n",
      "  warnings.warn(\n",
      "Loading game data...: 100%|███████████████████████████████████████████████████████████████████████████████████████████████████████████████████████████████████████████████████████████████████████████████████████████████████████████████████| 380/380 [05:48<00:00,  1.09it/s]\n"
     ]
    },
    {
     "name": "stdout",
     "output_type": "stream",
     "text": [
      "Importing ENG 1718 ...\n"
     ]
    },
    {
     "name": "stderr",
     "output_type": "stream",
     "text": [
      "Loading game data...: 100%|███████████████████████████████████████████████████████████████████████████████████████████████████████████████████████████████████████████████████████████████████████████████████████████████████████████████████| 380/380 [05:41<00:00,  1.11it/s]\n"
     ]
    },
    {
     "name": "stdout",
     "output_type": "stream",
     "text": [
      "Importing ESP 1718 ...\n"
     ]
    },
    {
     "name": "stderr",
     "output_type": "stream",
     "text": [
      "Loading game data...: 100%|███████████████████████████████████████████████████████████████████████████████████████████████████████████████████████████████████████████████████████████████████████████████████████████████████████████████████| 380/380 [05:47<00:00,  1.09it/s]\n"
     ]
    },
    {
     "name": "stdout",
     "output_type": "stream",
     "text": [
      "Importing FRA 1718 ...\n"
     ]
    },
    {
     "name": "stderr",
     "output_type": "stream",
     "text": [
      "Loading game data...: 100%|███████████████████████████████████████████████████████████████████████████████████████████████████████████████████████████████████████████████████████████████████████████████████████████████████████████████████| 380/380 [05:47<00:00,  1.09it/s]\n"
     ]
    },
    {
     "name": "stdout",
     "output_type": "stream",
     "text": [
      "Importing GER 1718 ...\n"
     ]
    },
    {
     "name": "stderr",
     "output_type": "stream",
     "text": [
      "Loading game data...: 100%|███████████████████████████████████████████████████████████████████████████████████████████████████████████████████████████████████████████████████████████████████████████████████████████████████████████████████| 306/306 [04:41<00:00,  1.09it/s]\n"
     ]
    }
   ],
   "source": [
    "# create a HDF dataset\n",
    "dataset = HDFDataset(\n",
    "    path=spadl_datafolder / \"spadl-wyscout-bigfive-1718.h5\", \n",
    "    mode=\"w\"\n",
    ")\n",
    "for comp in comps:\n",
    "    # map wyscout IDs to internal IDs\n",
    "    competition_name, competition_id = comp['league']['name'], comp['league']['wy_id']\n",
    "    season_name, season_id = comp['season']['name'], comp['season']['wy_id']\n",
    "    print(f\"Importing {competition_name} {season_name} ...\")\n",
    "    # import data\n",
    "    dataset.import_data(\n",
    "        WYL, \n",
    "        convert_to_actions, \n",
    "        competition_id, \n",
    "        season_id\n",
    "    )"
   ]
  },
  {
   "cell_type": "markdown",
   "metadata": {},
   "source": [
    "The HDF database now contains all games, teams, players and actions performed during each game."
   ]
  },
  {
   "cell_type": "code",
   "execution_count": 9,
   "metadata": {},
   "outputs": [
    {
     "data": {
      "text/html": [
       "<div>\n",
       "<style scoped>\n",
       "    .dataframe tbody tr th:only-of-type {\n",
       "        vertical-align: middle;\n",
       "    }\n",
       "\n",
       "    .dataframe tbody tr th {\n",
       "        vertical-align: top;\n",
       "    }\n",
       "\n",
       "    .dataframe thead th {\n",
       "        text-align: right;\n",
       "    }\n",
       "</style>\n",
       "<table border=\"1\" class=\"dataframe\">\n",
       "  <thead>\n",
       "    <tr style=\"text-align: right;\">\n",
       "      <th></th>\n",
       "      <th>competition_id</th>\n",
       "      <th>season_id</th>\n",
       "      <th>game_date</th>\n",
       "      <th>game_day</th>\n",
       "      <th>home_team_id</th>\n",
       "      <th>away_team_id</th>\n",
       "    </tr>\n",
       "    <tr>\n",
       "      <th>game_id</th>\n",
       "      <th></th>\n",
       "      <th></th>\n",
       "      <th></th>\n",
       "      <th></th>\n",
       "      <th></th>\n",
       "      <th></th>\n",
       "    </tr>\n",
       "  </thead>\n",
       "  <tbody>\n",
       "    <tr>\n",
       "      <th>2576335</th>\n",
       "      <td>524</td>\n",
       "      <td>181248</td>\n",
       "      <td>2018-05-20 18:45:00</td>\n",
       "      <td>38</td>\n",
       "      <td>3162</td>\n",
       "      <td>3161</td>\n",
       "    </tr>\n",
       "    <tr>\n",
       "      <th>2576336</th>\n",
       "      <td>524</td>\n",
       "      <td>181248</td>\n",
       "      <td>2018-05-20 18:45:00</td>\n",
       "      <td>38</td>\n",
       "      <td>3315</td>\n",
       "      <td>3158</td>\n",
       "    </tr>\n",
       "    <tr>\n",
       "      <th>2576329</th>\n",
       "      <td>524</td>\n",
       "      <td>181248</td>\n",
       "      <td>2018-05-20 16:00:00</td>\n",
       "      <td>38</td>\n",
       "      <td>3173</td>\n",
       "      <td>3172</td>\n",
       "    </tr>\n",
       "    <tr>\n",
       "      <th>2576330</th>\n",
       "      <td>524</td>\n",
       "      <td>181248</td>\n",
       "      <td>2018-05-20 16:00:00</td>\n",
       "      <td>38</td>\n",
       "      <td>3165</td>\n",
       "      <td>3219</td>\n",
       "    </tr>\n",
       "    <tr>\n",
       "      <th>2576331</th>\n",
       "      <td>524</td>\n",
       "      <td>181248</td>\n",
       "      <td>2018-05-20 16:00:00</td>\n",
       "      <td>38</td>\n",
       "      <td>3163</td>\n",
       "      <td>3166</td>\n",
       "    </tr>\n",
       "  </tbody>\n",
       "</table>\n",
       "</div>"
      ],
      "text/plain": [
       "         competition_id  season_id           game_date  game_day  \\\n",
       "game_id                                                            \n",
       "2576335             524     181248 2018-05-20 18:45:00        38   \n",
       "2576336             524     181248 2018-05-20 18:45:00        38   \n",
       "2576329             524     181248 2018-05-20 16:00:00        38   \n",
       "2576330             524     181248 2018-05-20 16:00:00        38   \n",
       "2576331             524     181248 2018-05-20 16:00:00        38   \n",
       "\n",
       "         home_team_id  away_team_id  \n",
       "game_id                              \n",
       "2576335          3162          3161  \n",
       "2576336          3315          3158  \n",
       "2576329          3173          3172  \n",
       "2576330          3165          3219  \n",
       "2576331          3163          3166  "
      ]
     },
     "execution_count": 9,
     "metadata": {},
     "output_type": "execute_result"
    }
   ],
   "source": [
    "dataset.games().head()"
   ]
  },
  {
   "cell_type": "code",
   "execution_count": 10,
   "metadata": {},
   "outputs": [
    {
     "data": {
      "text/html": [
       "<div>\n",
       "<style scoped>\n",
       "    .dataframe tbody tr th:only-of-type {\n",
       "        vertical-align: middle;\n",
       "    }\n",
       "\n",
       "    .dataframe tbody tr th {\n",
       "        vertical-align: top;\n",
       "    }\n",
       "\n",
       "    .dataframe thead th {\n",
       "        text-align: right;\n",
       "    }\n",
       "</style>\n",
       "<table border=\"1\" class=\"dataframe\">\n",
       "  <thead>\n",
       "    <tr style=\"text-align: right;\">\n",
       "      <th></th>\n",
       "      <th>team_name_short</th>\n",
       "      <th>team_name</th>\n",
       "    </tr>\n",
       "    <tr>\n",
       "      <th>team_id</th>\n",
       "      <th></th>\n",
       "      <th></th>\n",
       "    </tr>\n",
       "  </thead>\n",
       "  <tbody>\n",
       "    <tr>\n",
       "      <th>3166</th>\n",
       "      <td>Bologna</td>\n",
       "      <td>Bologna FC 1909</td>\n",
       "    </tr>\n",
       "    <tr>\n",
       "      <th>3185</th>\n",
       "      <td>Torino</td>\n",
       "      <td>Torino FC</td>\n",
       "    </tr>\n",
       "    <tr>\n",
       "      <th>3197</th>\n",
       "      <td>Crotone</td>\n",
       "      <td>FC Crotone</td>\n",
       "    </tr>\n",
       "    <tr>\n",
       "      <th>3157</th>\n",
       "      <td>Milan</td>\n",
       "      <td>AC Milan</td>\n",
       "    </tr>\n",
       "    <tr>\n",
       "      <th>3161</th>\n",
       "      <td>Internazionale</td>\n",
       "      <td>FC Internazionale Milano</td>\n",
       "    </tr>\n",
       "  </tbody>\n",
       "</table>\n",
       "</div>"
      ],
      "text/plain": [
       "        team_name_short                 team_name\n",
       "team_id                                          \n",
       "3166            Bologna           Bologna FC 1909\n",
       "3185             Torino                 Torino FC\n",
       "3197            Crotone                FC Crotone\n",
       "3157              Milan                  AC Milan\n",
       "3161     Internazionale  FC Internazionale Milano"
      ]
     },
     "execution_count": 10,
     "metadata": {},
     "output_type": "execute_result"
    }
   ],
   "source": [
    "dataset.teams().head()"
   ]
  },
  {
   "cell_type": "code",
   "execution_count": 11,
   "metadata": {},
   "outputs": [
    {
     "data": {
      "text/html": [
       "<div>\n",
       "<style scoped>\n",
       "    .dataframe tbody tr th:only-of-type {\n",
       "        vertical-align: middle;\n",
       "    }\n",
       "\n",
       "    .dataframe tbody tr th {\n",
       "        vertical-align: top;\n",
       "    }\n",
       "\n",
       "    .dataframe thead th {\n",
       "        text-align: right;\n",
       "    }\n",
       "</style>\n",
       "<table border=\"1\" class=\"dataframe\">\n",
       "  <thead>\n",
       "    <tr style=\"text-align: right;\">\n",
       "      <th></th>\n",
       "      <th>team_id</th>\n",
       "      <th>player_name</th>\n",
       "      <th>nickname</th>\n",
       "    </tr>\n",
       "    <tr>\n",
       "      <th>player_id</th>\n",
       "      <th></th>\n",
       "      <th></th>\n",
       "      <th></th>\n",
       "    </tr>\n",
       "  </thead>\n",
       "  <tbody>\n",
       "    <tr>\n",
       "      <th>99430</th>\n",
       "      <td>3158</td>\n",
       "      <td>Łukasz Skorupski</td>\n",
       "      <td>Ł. Skorupski</td>\n",
       "    </tr>\n",
       "    <tr>\n",
       "      <th>22053</th>\n",
       "      <td>3172</td>\n",
       "      <td>Francesco Rossi</td>\n",
       "      <td>F. Rossi</td>\n",
       "    </tr>\n",
       "    <tr>\n",
       "      <th>485464</th>\n",
       "      <td>3219</td>\n",
       "      <td>Oliva Christian Rutjens</td>\n",
       "      <td>Christian Rutjens</td>\n",
       "    </tr>\n",
       "    <tr>\n",
       "      <th>354470</th>\n",
       "      <td>3157</td>\n",
       "      <td>Emanuele Torrasi</td>\n",
       "      <td>E. Torrasi</td>\n",
       "    </tr>\n",
       "    <tr>\n",
       "      <th>343915</th>\n",
       "      <td>3204</td>\n",
       "      <td>Gabriele Marchegiani</td>\n",
       "      <td>G. Marchegiani</td>\n",
       "    </tr>\n",
       "  </tbody>\n",
       "</table>\n",
       "</div>"
      ],
      "text/plain": [
       "           team_id              player_name           nickname\n",
       "player_id                                                     \n",
       "99430         3158         Łukasz Skorupski       Ł. Skorupski\n",
       "22053         3172          Francesco Rossi           F. Rossi\n",
       "485464        3219  Oliva Christian Rutjens  Christian Rutjens\n",
       "354470        3157         Emanuele Torrasi         E. Torrasi\n",
       "343915        3204     Gabriele Marchegiani     G. Marchegiani"
      ]
     },
     "execution_count": 11,
     "metadata": {},
     "output_type": "execute_result"
    }
   ],
   "source": [
    "dataset.players().head()"
   ]
  },
  {
   "cell_type": "code",
   "execution_count": 12,
   "metadata": {},
   "outputs": [
    {
     "data": {
      "text/html": [
       "<div>\n",
       "<style scoped>\n",
       "    .dataframe tbody tr th:only-of-type {\n",
       "        vertical-align: middle;\n",
       "    }\n",
       "\n",
       "    .dataframe tbody tr th {\n",
       "        vertical-align: top;\n",
       "    }\n",
       "\n",
       "    .dataframe thead th {\n",
       "        text-align: right;\n",
       "    }\n",
       "</style>\n",
       "<table border=\"1\" class=\"dataframe\">\n",
       "  <thead>\n",
       "    <tr style=\"text-align: right;\">\n",
       "      <th></th>\n",
       "      <th></th>\n",
       "      <th>period_id</th>\n",
       "      <th>time_seconds</th>\n",
       "      <th>team_id</th>\n",
       "      <th>player_id</th>\n",
       "      <th>start_x</th>\n",
       "      <th>start_y</th>\n",
       "      <th>end_x</th>\n",
       "      <th>end_y</th>\n",
       "      <th>original_event_id</th>\n",
       "      <th>bodypart_id</th>\n",
       "      <th>type_id</th>\n",
       "      <th>result_id</th>\n",
       "    </tr>\n",
       "    <tr>\n",
       "      <th>game_id</th>\n",
       "      <th>action_id</th>\n",
       "      <th></th>\n",
       "      <th></th>\n",
       "      <th></th>\n",
       "      <th></th>\n",
       "      <th></th>\n",
       "      <th></th>\n",
       "      <th></th>\n",
       "      <th></th>\n",
       "      <th></th>\n",
       "      <th></th>\n",
       "      <th></th>\n",
       "      <th></th>\n",
       "    </tr>\n",
       "  </thead>\n",
       "  <tbody>\n",
       "    <tr>\n",
       "      <th rowspan=\"5\" valign=\"top\">2576335</th>\n",
       "      <th>0</th>\n",
       "      <td>1</td>\n",
       "      <td>2.417590</td>\n",
       "      <td>3161</td>\n",
       "      <td>3344</td>\n",
       "      <td>53.55</td>\n",
       "      <td>34.00</td>\n",
       "      <td>65.10</td>\n",
       "      <td>39.44</td>\n",
       "      <td>253668302</td>\n",
       "      <td>0</td>\n",
       "      <td>0</td>\n",
       "      <td>1</td>\n",
       "    </tr>\n",
       "    <tr>\n",
       "      <th>1</th>\n",
       "      <td>1</td>\n",
       "      <td>3.904412</td>\n",
       "      <td>3161</td>\n",
       "      <td>116349</td>\n",
       "      <td>65.10</td>\n",
       "      <td>39.44</td>\n",
       "      <td>66.15</td>\n",
       "      <td>61.88</td>\n",
       "      <td>253668303</td>\n",
       "      <td>0</td>\n",
       "      <td>0</td>\n",
       "      <td>1</td>\n",
       "    </tr>\n",
       "    <tr>\n",
       "      <th>2</th>\n",
       "      <td>1</td>\n",
       "      <td>6.484211</td>\n",
       "      <td>3161</td>\n",
       "      <td>135903</td>\n",
       "      <td>66.15</td>\n",
       "      <td>61.88</td>\n",
       "      <td>69.30</td>\n",
       "      <td>48.96</td>\n",
       "      <td>253668304</td>\n",
       "      <td>0</td>\n",
       "      <td>0</td>\n",
       "      <td>1</td>\n",
       "    </tr>\n",
       "    <tr>\n",
       "      <th>3</th>\n",
       "      <td>1</td>\n",
       "      <td>10.043835</td>\n",
       "      <td>3161</td>\n",
       "      <td>138408</td>\n",
       "      <td>69.30</td>\n",
       "      <td>48.96</td>\n",
       "      <td>67.20</td>\n",
       "      <td>9.52</td>\n",
       "      <td>253668306</td>\n",
       "      <td>0</td>\n",
       "      <td>0</td>\n",
       "      <td>1</td>\n",
       "    </tr>\n",
       "    <tr>\n",
       "      <th>4</th>\n",
       "      <td>1</td>\n",
       "      <td>14.032070</td>\n",
       "      <td>3161</td>\n",
       "      <td>21094</td>\n",
       "      <td>67.20</td>\n",
       "      <td>9.52</td>\n",
       "      <td>73.50</td>\n",
       "      <td>26.52</td>\n",
       "      <td>253668308</td>\n",
       "      <td>0</td>\n",
       "      <td>0</td>\n",
       "      <td>1</td>\n",
       "    </tr>\n",
       "  </tbody>\n",
       "</table>\n",
       "</div>"
      ],
      "text/plain": [
       "                   period_id  time_seconds  team_id  player_id  start_x  \\\n",
       "game_id action_id                                                         \n",
       "2576335 0                  1      2.417590     3161       3344    53.55   \n",
       "        1                  1      3.904412     3161     116349    65.10   \n",
       "        2                  1      6.484211     3161     135903    66.15   \n",
       "        3                  1     10.043835     3161     138408    69.30   \n",
       "        4                  1     14.032070     3161      21094    67.20   \n",
       "\n",
       "                   start_y  end_x  end_y original_event_id  bodypart_id  \\\n",
       "game_id action_id                                                         \n",
       "2576335 0            34.00  65.10  39.44         253668302            0   \n",
       "        1            39.44  66.15  61.88         253668303            0   \n",
       "        2            61.88  69.30  48.96         253668304            0   \n",
       "        3            48.96  67.20   9.52         253668306            0   \n",
       "        4             9.52  73.50  26.52         253668308            0   \n",
       "\n",
       "                   type_id  result_id  \n",
       "game_id action_id                      \n",
       "2576335 0                0          1  \n",
       "        1                0          1  \n",
       "        2                0          1  \n",
       "        3                0          1  \n",
       "        4                0          1  "
      ]
     },
     "execution_count": 12,
     "metadata": {},
     "output_type": "execute_result"
    }
   ],
   "source": [
    "dataset.actions(game_id=2576335).head()"
   ]
  },
  {
   "cell_type": "code",
   "execution_count": 13,
   "metadata": {
    "tags": []
   },
   "outputs": [],
   "source": [
    "dataset.close()"
   ]
  },
  {
   "cell_type": "code",
   "execution_count": null,
   "metadata": {},
   "outputs": [],
   "source": []
  }
 ],
 "metadata": {
  "kernelspec": {
   "display_name": "/home/pieterr/Jupiter/Projects/soccer_xg",
   "language": "python",
   "name": "soccer_xg"
  },
  "language_info": {
   "codemirror_mode": {
    "name": "ipython",
    "version": 3
   },
   "file_extension": ".py",
   "mimetype": "text/x-python",
   "name": "python",
   "nbconvert_exporter": "python",
   "pygments_lexer": "ipython3",
   "version": "3.11.1"
  },
  "toc": {
   "base_numbering": 1,
   "nav_menu": {},
   "number_sections": true,
   "sideBar": true,
   "skip_h1_title": false,
   "title_cell": "Table of Contents",
   "title_sidebar": "Contents",
   "toc_cell": false,
   "toc_position": {},
   "toc_section_display": true,
   "toc_window_display": true
  }
 },
 "nbformat": 4,
 "nbformat_minor": 4
}
