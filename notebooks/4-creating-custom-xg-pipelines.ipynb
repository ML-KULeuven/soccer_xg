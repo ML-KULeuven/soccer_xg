{
 "cells": [
  {
   "cell_type": "markdown",
   "metadata": {},
   "source": [
    "# Custom xG Models\n",
    "This notebook trains two custom xG pipelines for shots from open play using Logistic Regression and Gradient Boosting Probability Trees on the following set of features:\n",
    "\n",
    "`start_x_a0` :\n",
    "    The x-coordinate of the shot  \n",
    "`start_y_a0` :\n",
    "    The y-coordinate of the shot  \n",
    "`shot_angle_a0` :\n",
    "    The angle of the shot  \n",
    "`start_dist_to_goal_a0` :\n",
    "    The distance to the center of the goal  \n",
    "`bodypart_id_a0` :\n",
    "    Bodypart used to take the shot (foot or head/other body part)  "
   ]
  },
  {
   "cell_type": "code",
   "execution_count": 1,
   "metadata": {},
   "outputs": [],
   "source": [
    "import pandas as pd\n",
    "import numpy as np\n",
    "import itertools\n",
    "import matplotlib.pyplot as plt"
   ]
  },
  {
   "cell_type": "code",
   "execution_count": 2,
   "metadata": {},
   "outputs": [],
   "source": [
    "%load_ext autoreload\n",
    "%autoreload 2\n",
    "from soccer_xg.api import DataApi\n",
    "import soccer_xg.xg as xg\n",
    "from soccer_xg.utils import sample_temporal"
   ]
  },
  {
   "cell_type": "markdown",
   "metadata": {},
   "source": [
    "## Config\n"
   ]
  },
  {
   "cell_type": "code",
   "execution_count": 3,
   "metadata": {},
   "outputs": [],
   "source": [
    "# dataset\n",
    "dir_data = \"../data\"\n",
    "provider = 'wyscout_opensource'\n",
    "leagues = ['ENG', 'ESP', 'ITA', 'GER', 'FRA']\n",
    "seasons = ['1718']\n",
    "\n",
    "# features\n",
    "store_features = f'../data/{provider}/features.h5'"
   ]
  },
  {
   "cell_type": "markdown",
   "metadata": {},
   "source": [
    "Optionally, you can use dask to speed up the parameter tuning."
   ]
  },
  {
   "cell_type": "code",
   "execution_count": 4,
   "metadata": {},
   "outputs": [
    {
     "data": {
      "text/html": [
       "<table style=\"border: 2px solid white;\">\n",
       "<tr>\n",
       "<td style=\"vertical-align: top; border: 0px solid white\">\n",
       "<h3 style=\"text-align: left;\">Client</h3>\n",
       "<ul style=\"text-align: left; list-style: none; margin: 0; padding: 0;\">\n",
       "  <li><b>Scheduler: </b>inproc://134.58.41.109/18671/1</li>\n",
       "  <li><b>Dashboard: </b><a href='http://134.58.41.109:8787/status' target='_blank'>http://134.58.41.109:8787/status</a></li>\n",
       "</ul>\n",
       "</td>\n",
       "<td style=\"vertical-align: top; border: 0px solid white\">\n",
       "<h3 style=\"text-align: left;\">Cluster</h3>\n",
       "<ul style=\"text-align: left; list-style:none; margin: 0; padding: 0;\">\n",
       "  <li><b>Workers: </b>1</li>\n",
       "  <li><b>Cores: </b>4</li>\n",
       "  <li><b>Memory: </b>2.00 GB</li>\n",
       "</ul>\n",
       "</td>\n",
       "</tr>\n",
       "</table>"
      ],
      "text/plain": [
       "<Client: 'inproc://134.58.41.109/18671/1' processes=1 threads=4, memory=2.00 GB>"
      ]
     },
     "execution_count": 4,
     "metadata": {},
     "output_type": "execute_result"
    }
   ],
   "source": [
    "import dask\n",
    "dask.config.set({'temporary_directory': '/tmp'})\n",
    "\n",
    "cluster = False\n",
    "#cluster = '134.58.41.90:8786'\n",
    "\n",
    "if not cluster:\n",
    "    from dask.distributed import Client\n",
    "    client = Client(processes=False, threads_per_worker=4,\n",
    "                    n_workers=1, memory_limit='2GB')\n",
    "    \n",
    "else:\n",
    "    from dask.distributed import Client\n",
    "    client = Client(cluster)\n",
    "    \n",
    "client"
   ]
  },
  {
   "cell_type": "markdown",
   "metadata": {},
   "source": [
    "## Preprocessing\n",
    "We start by loading the raw SPADL data and precomputed features. Make sure to run the `1-load-and-convert-wyscout-data` and `3-computing-and-storing-features` notebooks first to download the data set, convert it to the SPADL format and compute the xG features.\n"
   ]
  },
  {
   "cell_type": "markdown",
   "metadata": {},
   "source": [
    "### Load data"
   ]
  },
  {
   "cell_type": "code",
   "execution_count": 5,
   "metadata": {},
   "outputs": [],
   "source": [
    "api = DataApi([f\"{dir_data}/{provider}/spadl-{provider}-{l}-{s}.h5\" \n",
    "        for (l,s) in itertools.product(leagues, seasons)])"
   ]
  },
  {
   "cell_type": "markdown",
   "metadata": {},
   "source": [
    "### Load features"
   ]
  },
  {
   "cell_type": "code",
   "execution_count": 6,
   "metadata": {},
   "outputs": [
    {
     "data": {
      "text/html": [
       "<div>\n",
       "<style scoped>\n",
       "    .dataframe tbody tr th:only-of-type {\n",
       "        vertical-align: middle;\n",
       "    }\n",
       "\n",
       "    .dataframe tbody tr th {\n",
       "        vertical-align: top;\n",
       "    }\n",
       "\n",
       "    .dataframe thead th {\n",
       "        text-align: right;\n",
       "    }\n",
       "</style>\n",
       "<table border=\"1\" class=\"dataframe\">\n",
       "  <thead>\n",
       "    <tr style=\"text-align: right;\">\n",
       "      <th></th>\n",
       "      <th></th>\n",
       "      <th>type_id_a0</th>\n",
       "      <th>type_id_a1</th>\n",
       "      <th>type_id_a2</th>\n",
       "      <th>bodypart_id_a0</th>\n",
       "      <th>bodypart_id_a1</th>\n",
       "      <th>bodypart_id_a2</th>\n",
       "      <th>result_id_a1</th>\n",
       "      <th>result_id_a2</th>\n",
       "      <th>start_x_a0</th>\n",
       "      <th>start_y_a0</th>\n",
       "      <th>...</th>\n",
       "      <th>speed_a02</th>\n",
       "      <th>shot_angle_a0</th>\n",
       "      <th>shot_angle_a1</th>\n",
       "      <th>shot_angle_a2</th>\n",
       "      <th>caley_zone_a0</th>\n",
       "      <th>caley_zone_a1</th>\n",
       "      <th>caley_zone_a2</th>\n",
       "      <th>angle_zone_a0</th>\n",
       "      <th>angle_zone_a1</th>\n",
       "      <th>angle_zone_a2</th>\n",
       "    </tr>\n",
       "    <tr>\n",
       "      <th>game_id</th>\n",
       "      <th>action_id</th>\n",
       "      <th></th>\n",
       "      <th></th>\n",
       "      <th></th>\n",
       "      <th></th>\n",
       "      <th></th>\n",
       "      <th></th>\n",
       "      <th></th>\n",
       "      <th></th>\n",
       "      <th></th>\n",
       "      <th></th>\n",
       "      <th></th>\n",
       "      <th></th>\n",
       "      <th></th>\n",
       "      <th></th>\n",
       "      <th></th>\n",
       "      <th></th>\n",
       "      <th></th>\n",
       "      <th></th>\n",
       "      <th></th>\n",
       "      <th></th>\n",
       "      <th></th>\n",
       "    </tr>\n",
       "  </thead>\n",
       "  <tbody>\n",
       "    <tr>\n",
       "      <th rowspan=\"5\" valign=\"top\">2500098</th>\n",
       "      <th>17</th>\n",
       "      <td>shot</td>\n",
       "      <td>dribble</td>\n",
       "      <td>cross</td>\n",
       "      <td>foot</td>\n",
       "      <td>foot</td>\n",
       "      <td>foot</td>\n",
       "      <td>success</td>\n",
       "      <td>success</td>\n",
       "      <td>99.75</td>\n",
       "      <td>26.52</td>\n",
       "      <td>...</td>\n",
       "      <td>1.319750</td>\n",
       "      <td>0.499778</td>\n",
       "      <td>0.483780</td>\n",
       "      <td>0.065500</td>\n",
       "      <td>2</td>\n",
       "      <td>3</td>\n",
       "      <td>8</td>\n",
       "      <td>9</td>\n",
       "      <td>12</td>\n",
       "      <td>18</td>\n",
       "    </tr>\n",
       "    <tr>\n",
       "      <th>40</th>\n",
       "      <td>shot</td>\n",
       "      <td>corner_crossed</td>\n",
       "      <td>pass</td>\n",
       "      <td>foot</td>\n",
       "      <td>foot</td>\n",
       "      <td>foot</td>\n",
       "      <td>success</td>\n",
       "      <td>fail</td>\n",
       "      <td>91.35</td>\n",
       "      <td>35.36</td>\n",
       "      <td>...</td>\n",
       "      <td>4.249364</td>\n",
       "      <td>0.517985</td>\n",
       "      <td>0.000000</td>\n",
       "      <td>0.363334</td>\n",
       "      <td>3</td>\n",
       "      <td>8</td>\n",
       "      <td>4</td>\n",
       "      <td>12</td>\n",
       "      <td>21</td>\n",
       "      <td>12</td>\n",
       "    </tr>\n",
       "    <tr>\n",
       "      <th>77</th>\n",
       "      <td>shot</td>\n",
       "      <td>clearance</td>\n",
       "      <td>cross</td>\n",
       "      <td>foot</td>\n",
       "      <td>foot</td>\n",
       "      <td>foot</td>\n",
       "      <td>fail</td>\n",
       "      <td>fail</td>\n",
       "      <td>75.60</td>\n",
       "      <td>29.92</td>\n",
       "      <td>...</td>\n",
       "      <td>5.874066</td>\n",
       "      <td>0.242481</td>\n",
       "      <td>0.491555</td>\n",
       "      <td>0.043863</td>\n",
       "      <td>6</td>\n",
       "      <td>3</td>\n",
       "      <td>0</td>\n",
       "      <td>18</td>\n",
       "      <td>12</td>\n",
       "      <td>18</td>\n",
       "    </tr>\n",
       "    <tr>\n",
       "      <th>140</th>\n",
       "      <td>shot</td>\n",
       "      <td>cross</td>\n",
       "      <td>dribble</td>\n",
       "      <td>foot</td>\n",
       "      <td>foot</td>\n",
       "      <td>foot</td>\n",
       "      <td>success</td>\n",
       "      <td>success</td>\n",
       "      <td>92.40</td>\n",
       "      <td>43.52</td>\n",
       "      <td>...</td>\n",
       "      <td>2.061543</td>\n",
       "      <td>0.371538</td>\n",
       "      <td>0.134860</td>\n",
       "      <td>0.167545</td>\n",
       "      <td>4</td>\n",
       "      <td>5</td>\n",
       "      <td>0</td>\n",
       "      <td>12</td>\n",
       "      <td>15</td>\n",
       "      <td>18</td>\n",
       "    </tr>\n",
       "    <tr>\n",
       "      <th>145</th>\n",
       "      <td>shot</td>\n",
       "      <td>pass</td>\n",
       "      <td>pass</td>\n",
       "      <td>foot</td>\n",
       "      <td>foot</td>\n",
       "      <td>foot</td>\n",
       "      <td>success</td>\n",
       "      <td>success</td>\n",
       "      <td>99.75</td>\n",
       "      <td>37.40</td>\n",
       "      <td>...</td>\n",
       "      <td>1.289870</td>\n",
       "      <td>0.978291</td>\n",
       "      <td>0.654611</td>\n",
       "      <td>0.320841</td>\n",
       "      <td>1</td>\n",
       "      <td>3</td>\n",
       "      <td>4</td>\n",
       "      <td>6</td>\n",
       "      <td>9</td>\n",
       "      <td>15</td>\n",
       "    </tr>\n",
       "  </tbody>\n",
       "</table>\n",
       "<p>5 rows × 59 columns</p>\n",
       "</div>"
      ],
      "text/plain": [
       "                  type_id_a0      type_id_a1 type_id_a2 bodypart_id_a0  \\\n",
       "game_id action_id                                                        \n",
       "2500098 17              shot         dribble      cross           foot   \n",
       "        40              shot  corner_crossed       pass           foot   \n",
       "        77              shot       clearance      cross           foot   \n",
       "        140             shot           cross    dribble           foot   \n",
       "        145             shot            pass       pass           foot   \n",
       "\n",
       "                  bodypart_id_a1 bodypart_id_a2 result_id_a1 result_id_a2  \\\n",
       "game_id action_id                                                           \n",
       "2500098 17                  foot           foot      success      success   \n",
       "        40                  foot           foot      success         fail   \n",
       "        77                  foot           foot         fail         fail   \n",
       "        140                 foot           foot      success      success   \n",
       "        145                 foot           foot      success      success   \n",
       "\n",
       "                   start_x_a0  start_y_a0  ...  speed_a02  shot_angle_a0  \\\n",
       "game_id action_id                          ...                             \n",
       "2500098 17              99.75       26.52  ...   1.319750       0.499778   \n",
       "        40              91.35       35.36  ...   4.249364       0.517985   \n",
       "        77              75.60       29.92  ...   5.874066       0.242481   \n",
       "        140             92.40       43.52  ...   2.061543       0.371538   \n",
       "        145             99.75       37.40  ...   1.289870       0.978291   \n",
       "\n",
       "                   shot_angle_a1  shot_angle_a2  caley_zone_a0  caley_zone_a1  \\\n",
       "game_id action_id                                                               \n",
       "2500098 17              0.483780       0.065500              2              3   \n",
       "        40              0.000000       0.363334              3              8   \n",
       "        77              0.491555       0.043863              6              3   \n",
       "        140             0.134860       0.167545              4              5   \n",
       "        145             0.654611       0.320841              1              3   \n",
       "\n",
       "                   caley_zone_a2  angle_zone_a0  angle_zone_a1  angle_zone_a2  \n",
       "game_id action_id                                                              \n",
       "2500098 17                     8              9             12             18  \n",
       "        40                     4             12             21             12  \n",
       "        77                     0             18             12             18  \n",
       "        140                    0             12             15             18  \n",
       "        145                    4              6              9             15  \n",
       "\n",
       "[5 rows x 59 columns]"
      ]
     },
     "metadata": {},
     "output_type": "display_data"
    },
    {
     "data": {
      "text/html": [
       "<div>\n",
       "<style scoped>\n",
       "    .dataframe tbody tr th:only-of-type {\n",
       "        vertical-align: middle;\n",
       "    }\n",
       "\n",
       "    .dataframe tbody tr th {\n",
       "        vertical-align: top;\n",
       "    }\n",
       "\n",
       "    .dataframe thead th {\n",
       "        text-align: right;\n",
       "    }\n",
       "</style>\n",
       "<table border=\"1\" class=\"dataframe\">\n",
       "  <thead>\n",
       "    <tr style=\"text-align: right;\">\n",
       "      <th></th>\n",
       "      <th></th>\n",
       "      <th>goal</th>\n",
       "    </tr>\n",
       "    <tr>\n",
       "      <th>game_id</th>\n",
       "      <th>action_id</th>\n",
       "      <th></th>\n",
       "    </tr>\n",
       "  </thead>\n",
       "  <tbody>\n",
       "    <tr>\n",
       "      <th rowspan=\"5\" valign=\"top\">2500098</th>\n",
       "      <th>17</th>\n",
       "      <td>False</td>\n",
       "    </tr>\n",
       "    <tr>\n",
       "      <th>40</th>\n",
       "      <td>False</td>\n",
       "    </tr>\n",
       "    <tr>\n",
       "      <th>77</th>\n",
       "      <td>False</td>\n",
       "    </tr>\n",
       "    <tr>\n",
       "      <th>140</th>\n",
       "      <td>False</td>\n",
       "    </tr>\n",
       "    <tr>\n",
       "      <th>145</th>\n",
       "      <td>False</td>\n",
       "    </tr>\n",
       "  </tbody>\n",
       "</table>\n",
       "</div>"
      ],
      "text/plain": [
       "                    goal\n",
       "game_id action_id       \n",
       "2500098 17         False\n",
       "        40         False\n",
       "        77         False\n",
       "        140        False\n",
       "        145        False"
      ]
     },
     "metadata": {},
     "output_type": "display_data"
    }
   ],
   "source": [
    "features = []\n",
    "labels = []\n",
    "# load features and labels for each season\n",
    "for (l,s) in itertools.product(leagues, seasons):\n",
    "    features.append(pd.read_hdf(store_features, key=f'{l}/{s}/features'))\n",
    "    labels.append(pd.read_hdf(store_features, key=f'{l}/{s}/labels'))\n",
    "features = pd.concat(features)\n",
    "labels = pd.concat(labels)\n",
    "# filter open play shots\n",
    "open_play_idx = features[features.type_id_a0 == 'shot'].index\n",
    "features = features.loc[open_play_idx]\n",
    "labels = labels.loc[open_play_idx]\n",
    "\n",
    "display(features.head())\n",
    "display(labels.to_frame().head())"
   ]
  },
  {
   "cell_type": "markdown",
   "metadata": {},
   "source": [
    "### Split train - test\n",
    "Create a train, validation (used for calibration) and test set (used for evalution)."
   ]
  },
  {
   "cell_type": "code",
   "execution_count": 7,
   "metadata": {},
   "outputs": [],
   "source": [
    "games_train, games_val, games_test = sample_temporal(api, size_val=0.2, size_test=0.3)\n",
    "\n",
    "X_train, y_train = features.loc[games_train], labels.loc[games_train]\n",
    "data_train = X_train.assign(goal=y_train)\n",
    "X_val, y_val = features.loc[games_val], labels.loc[games_val]\n",
    "data_val = X_train.assign(goal=y_val)\n",
    "X_test, y_test = features.loc[games_test], labels.loc[games_test]\n",
    "data_test = X_test.assign(goal=y_test)"
   ]
  },
  {
   "cell_type": "code",
   "execution_count": 8,
   "metadata": {},
   "outputs": [
    {
     "name": "stdout",
     "output_type": "stream",
     "text": [
      "dataset = train\n",
      "shape = (20652, 59)\n",
      "--------------------\n",
      "dataset = val\n",
      "shape = (7781, 59)\n",
      "--------------------\n",
      "dataset = test\n",
      "shape = (11965, 59)\n",
      "--------------------\n"
     ]
    }
   ],
   "source": [
    "for name, X in [(\"train\", X_train), (\"val\", X_val), (\"test\", X_test)]:\n",
    "    print(\"dataset =\", name)\n",
    "    print(\"shape =\", X.shape)\n",
    "    print(\"-\" * 20)"
   ]
  },
  {
   "cell_type": "markdown",
   "metadata": {},
   "source": [
    "## Learning"
   ]
  },
  {
   "cell_type": "markdown",
   "metadata": {},
   "source": [
    "### Feature selection\n",
    "Note that `a0` corresponds to the shot itself, `a1` would be the action before the shot, `a2` the action before that, etc."
   ]
  },
  {
   "cell_type": "code",
   "execution_count": 9,
   "metadata": {},
   "outputs": [],
   "source": [
    "NUM = ['start_x_a0', 'start_y_a0', 'start_dist_to_goal_a0', 'shot_angle_a0']  # numerical features\n",
    "CAT = ['bodypart_id_a0']  # categorical features"
   ]
  },
  {
   "cell_type": "markdown",
   "metadata": {},
   "source": [
    "### Logistic Regression"
   ]
  },
  {
   "cell_type": "code",
   "execution_count": 10,
   "metadata": {},
   "outputs": [],
   "source": [
    "%autoreload 2\n",
    "from soccer_xg.ml import logreg"
   ]
  },
  {
   "cell_type": "code",
   "execution_count": 11,
   "metadata": {},
   "outputs": [],
   "source": [
    "search_logreg = logreg.logreg_gridsearch_classifier(\n",
    "    numeric_features=NUM,\n",
    "    categoric_features=CAT,\n",
    "    use_dask=True,\n",
    "    scoring='neg_brier_score',\n",
    "    learning_rate='optimal',\n",
    "    n_iter=1000\n",
    ")"
   ]
  },
  {
   "cell_type": "code",
   "execution_count": 12,
   "metadata": {},
   "outputs": [
    {
     "name": "stderr",
     "output_type": "stream",
     "text": [
      "/home/pieterr/Jupiter/Projects/soccer_dataprovider_comparison/.venv/lib/python3.6/site-packages/sklearn/model_selection/_search.py:281: UserWarning: The total space of parameters 400 is smaller than n_iter=1000. Running 400 iterations. For exhaustive searches, use GridSearchCV.\n",
      "  % (grid_size, self.n_iter, grid_size), UserWarning)\n"
     ]
    }
   ],
   "source": [
    "search_logreg.fit(X_train, y_train);"
   ]
  },
  {
   "cell_type": "code",
   "execution_count": 13,
   "metadata": {},
   "outputs": [
    {
     "data": {
      "text/plain": [
       "-0.07954030983164834"
      ]
     },
     "execution_count": 13,
     "metadata": {},
     "output_type": "execute_result"
    }
   ],
   "source": [
    "search_logreg.best_score_"
   ]
  },
  {
   "cell_type": "code",
   "execution_count": 14,
   "metadata": {},
   "outputs": [
    {
     "name": "stderr",
     "output_type": "stream",
     "text": [
      "No handles with labels found to put in legend.\n"
     ]
    },
    {
     "name": "stdout",
     "output_type": "stream",
     "text": [
      "{'max_dev': 43.84497552825291, 'residual_area': 766.1075845323285, 'roc': 0.781085666916153, 'brier': 0.08463387301843504, 'ece': 0.012483117426868794, 'ace': 0.012690942667727058, 'fig': <Figure size 720x360 with 3 Axes>}\n"
     ]
    },
    {
     "data": {
      "image/png": "[encoded data removed]",
      "text/plain": [
       "<Figure size 720x360 with 3 Axes>"
      ]
     },
     "metadata": {
      "needs_background": "light"
     },
     "output_type": "display_data"
    }
   ],
   "source": [
    "model = xg.OpenplayXGModel()\n",
    "model.model = search_logreg.best_estimator_\n",
    "model._training_seasons = [\"1718\"]\n",
    "model._fitted = True\n",
    "print(model.validate(data_test, validation_seasons=[\"1718\"]))\n",
    "model.save_model(f'{provider}_openplay_logreg_basic')"
   ]
  },
  {
   "cell_type": "code",
   "execution_count": 15,
   "metadata": {},
   "outputs": [
    {
     "data": {
      "text/html": [
       "<div>\n",
       "<style scoped>\n",
       "    .dataframe tbody tr th:only-of-type {\n",
       "        vertical-align: middle;\n",
       "    }\n",
       "\n",
       "    .dataframe tbody tr th {\n",
       "        vertical-align: top;\n",
       "    }\n",
       "\n",
       "    .dataframe thead th {\n",
       "        text-align: right;\n",
       "    }\n",
       "</style>\n",
       "<table border=\"1\" class=\"dataframe\">\n",
       "  <thead>\n",
       "    <tr style=\"text-align: right;\">\n",
       "      <th></th>\n",
       "      <th>importance</th>\n",
       "    </tr>\n",
       "  </thead>\n",
       "  <tbody>\n",
       "    <tr>\n",
       "      <th>bodypart_id_a0</th>\n",
       "      <td>-3.017892</td>\n",
       "    </tr>\n",
       "    <tr>\n",
       "      <th>bodypart_id_a0</th>\n",
       "      <td>-2.345470</td>\n",
       "    </tr>\n",
       "    <tr>\n",
       "      <th>start_dist_to_goal_a0</th>\n",
       "      <td>-0.683558</td>\n",
       "    </tr>\n",
       "    <tr>\n",
       "      <th>start_y_a0</th>\n",
       "      <td>-0.012526</td>\n",
       "    </tr>\n",
       "    <tr>\n",
       "      <th>start_x_a0</th>\n",
       "      <td>0.044673</td>\n",
       "    </tr>\n",
       "    <tr>\n",
       "      <th>shot_angle_a0</th>\n",
       "      <td>0.487839</td>\n",
       "    </tr>\n",
       "  </tbody>\n",
       "</table>\n",
       "</div>"
      ],
      "text/plain": [
       "                       importance\n",
       "bodypart_id_a0          -3.017892\n",
       "bodypart_id_a0          -2.345470\n",
       "start_dist_to_goal_a0   -0.683558\n",
       "start_y_a0              -0.012526\n",
       "start_x_a0               0.044673\n",
       "shot_angle_a0            0.487839"
      ]
     },
     "execution_count": 15,
     "metadata": {},
     "output_type": "execute_result"
    }
   ],
   "source": [
    "model = xg.XGModel.load_model(f'{provider}_logreg_basic')\n",
    "(pd.DataFrame(\n",
    "    data={'importance': model.model.named_steps['clf'].coef_[0]}, \n",
    "    index=CAT*2 + NUM)\n",
    "    .sort_values(by='importance'))"
   ]
  },
  {
   "cell_type": "markdown",
   "metadata": {},
   "source": [
    "### XGBoost"
   ]
  },
  {
   "cell_type": "code",
   "execution_count": 16,
   "metadata": {},
   "outputs": [],
   "source": [
    "%autoreload 2\n",
    "from soccer_xg.ml import xgboost"
   ]
  },
  {
   "cell_type": "code",
   "execution_count": 17,
   "metadata": {},
   "outputs": [],
   "source": [
    "search_xgb = xgboost.xgboost_gridsearch_classifier(\n",
    "    numeric_features=NUM,\n",
    "    categoric_features=CAT,\n",
    "    use_dask=True,\n",
    "    scoring='neg_brier_score',\n",
    "    n_iter=1000\n",
    ")"
   ]
  },
  {
   "cell_type": "code",
   "execution_count": 18,
   "metadata": {},
   "outputs": [],
   "source": [
    "search_xgb.fit(X_train, y_train);"
   ]
  },
  {
   "cell_type": "code",
   "execution_count": 19,
   "metadata": {},
   "outputs": [
    {
     "data": {
      "text/plain": [
       "-0.0796168605722396"
      ]
     },
     "execution_count": 19,
     "metadata": {},
     "output_type": "execute_result"
    }
   ],
   "source": [
    "search_xgb.best_score_"
   ]
  },
  {
   "cell_type": "code",
   "execution_count": 20,
   "metadata": {},
   "outputs": [
    {
     "name": "stderr",
     "output_type": "stream",
     "text": [
      "No handles with labels found to put in legend.\n"
     ]
    },
    {
     "name": "stdout",
     "output_type": "stream",
     "text": [
      "{'max_dev': 30.960270602527984, 'residual_area': 857.1900614979984, 'roc': 0.7823261149160066, 'brier': 0.08429739509683612, 'ece': 0.005332297751757049, 'ace': 0.008145586900316519, 'fig': <Figure size 720x360 with 3 Axes>}\n"
     ]
    },
    {
     "data": {
      "image/png": "[encoded data removed]",
      "text/plain": [
       "<Figure size 720x360 with 3 Axes>"
      ]
     },
     "metadata": {
      "needs_background": "light"
     },
     "output_type": "display_data"
    }
   ],
   "source": [
    "model = xg.OpenplayXGModel()\n",
    "model.model = search_xgb.best_estimator_\n",
    "model._training_seasons = [\"1718\"]\n",
    "model._fitted = True\n",
    "print(model.validate(data_test, validation_seasons=[\"1718\"]))\n",
    "model.save_model(f'{provider}_openplay_xgboost_basic')"
   ]
  },
  {
   "cell_type": "markdown",
   "metadata": {},
   "source": [
    "#### Post calibration\n",
    "Let's see if we can improve the model with post-calibration..."
   ]
  },
  {
   "cell_type": "code",
   "execution_count": 21,
   "metadata": {},
   "outputs": [],
   "source": [
    "%autoreload 2\n",
    "from soccer_xg.calibration import CalibratedClassifierCV"
   ]
  },
  {
   "cell_type": "code",
   "execution_count": 22,
   "metadata": {},
   "outputs": [
    {
     "data": {
      "text/html": [
       "<div>\n",
       "<style scoped>\n",
       "    .dataframe tbody tr th:only-of-type {\n",
       "        vertical-align: middle;\n",
       "    }\n",
       "\n",
       "    .dataframe tbody tr th {\n",
       "        vertical-align: top;\n",
       "    }\n",
       "\n",
       "    .dataframe thead th {\n",
       "        text-align: right;\n",
       "    }\n",
       "</style>\n",
       "<table border=\"1\" class=\"dataframe\">\n",
       "  <thead>\n",
       "    <tr style=\"text-align: right;\">\n",
       "      <th></th>\n",
       "      <th>max_dev</th>\n",
       "      <th>residual_area</th>\n",
       "      <th>roc</th>\n",
       "      <th>brier</th>\n",
       "      <th>ece</th>\n",
       "      <th>ace</th>\n",
       "      <th>fig</th>\n",
       "    </tr>\n",
       "    <tr>\n",
       "      <th>method</th>\n",
       "      <th></th>\n",
       "      <th></th>\n",
       "      <th></th>\n",
       "      <th></th>\n",
       "      <th></th>\n",
       "      <th></th>\n",
       "      <th></th>\n",
       "    </tr>\n",
       "  </thead>\n",
       "  <tbody>\n",
       "    <tr>\n",
       "      <th>isotonic</th>\n",
       "      <td>39.564576</td>\n",
       "      <td>709.146478</td>\n",
       "      <td>0.781733</td>\n",
       "      <td>0.084732</td>\n",
       "      <td>0.008976</td>\n",
       "      <td>0.005764</td>\n",
       "      <td>None</td>\n",
       "    </tr>\n",
       "    <tr>\n",
       "      <th>beta</th>\n",
       "      <td>39.564332</td>\n",
       "      <td>709.137344</td>\n",
       "      <td>0.781733</td>\n",
       "      <td>0.084732</td>\n",
       "      <td>0.008976</td>\n",
       "      <td>0.005764</td>\n",
       "      <td>None</td>\n",
       "    </tr>\n",
       "    <tr>\n",
       "      <th>beta_ab</th>\n",
       "      <td>39.564904</td>\n",
       "      <td>709.146603</td>\n",
       "      <td>0.781733</td>\n",
       "      <td>0.084732</td>\n",
       "      <td>0.008976</td>\n",
       "      <td>0.005764</td>\n",
       "      <td>None</td>\n",
       "    </tr>\n",
       "    <tr>\n",
       "      <th>beta_am</th>\n",
       "      <td>39.564701</td>\n",
       "      <td>709.146401</td>\n",
       "      <td>0.781733</td>\n",
       "      <td>0.084732</td>\n",
       "      <td>0.008976</td>\n",
       "      <td>0.006127</td>\n",
       "      <td>None</td>\n",
       "    </tr>\n",
       "    <tr>\n",
       "      <th>base</th>\n",
       "      <td>30.960271</td>\n",
       "      <td>857.190061</td>\n",
       "      <td>0.782326</td>\n",
       "      <td>0.084297</td>\n",
       "      <td>0.005332</td>\n",
       "      <td>0.008269</td>\n",
       "      <td>None</td>\n",
       "    </tr>\n",
       "    <tr>\n",
       "      <th>sigmoid</th>\n",
       "      <td>45.334279</td>\n",
       "      <td>1358.774246</td>\n",
       "      <td>0.782326</td>\n",
       "      <td>0.085594</td>\n",
       "      <td>0.022263</td>\n",
       "      <td>0.026060</td>\n",
       "      <td>None</td>\n",
       "    </tr>\n",
       "  </tbody>\n",
       "</table>\n",
       "</div>"
      ],
      "text/plain": [
       "            max_dev  residual_area       roc     brier       ece       ace  \\\n",
       "method                                                                       \n",
       "isotonic  39.564576     709.146478  0.781733  0.084732  0.008976  0.005764   \n",
       "beta      39.564332     709.137344  0.781733  0.084732  0.008976  0.005764   \n",
       "beta_ab   39.564904     709.146603  0.781733  0.084732  0.008976  0.005764   \n",
       "beta_am   39.564701     709.146401  0.781733  0.084732  0.008976  0.006127   \n",
       "base      30.960271     857.190061  0.782326  0.084297  0.005332  0.008269   \n",
       "sigmoid   45.334279    1358.774246  0.782326  0.085594  0.022263  0.026060   \n",
       "\n",
       "           fig  \n",
       "method          \n",
       "isotonic  None  \n",
       "beta      None  \n",
       "beta_ab   None  \n",
       "beta_am   None  \n",
       "base      None  \n",
       "sigmoid   None  "
      ]
     },
     "execution_count": 22,
     "metadata": {},
     "output_type": "execute_result"
    }
   ],
   "source": [
    "results = []\n",
    "\n",
    "for method in [None, 'sigmoid', 'isotonic', 'beta', 'beta_am', 'beta_ab']:\n",
    "    # calibrate\n",
    "    calibrated_model = CalibratedClassifierCV(model.model, method=method, cv='prefit')\n",
    "    calibrated_model.fit(X_val, y_val);\n",
    "    # store\n",
    "    model = xg.OpenplayXGModel()\n",
    "    model.model = calibrated_model\n",
    "    model._training_seasons = [\"1718\"]\n",
    "    model._fitted = True\n",
    "    # validate\n",
    "    method = 'base' if method is None else method\n",
    "    validation = model.validate(data_test, validation_seasons=[\"1718\"], plot=False)\n",
    "    validation['method'] = method\n",
    "    results.append(validation)\n",
    "\n",
    "pd.DataFrame(results).set_index('method').sort_values(by='ace')"
   ]
  },
  {
   "cell_type": "markdown",
   "metadata": {},
   "source": [
    "Apparently, post-calibration does not help here."
   ]
  },
  {
   "cell_type": "markdown",
   "metadata": {},
   "source": [
    "## xG heatmaps"
   ]
  },
  {
   "cell_type": "code",
   "execution_count": 23,
   "metadata": {},
   "outputs": [],
   "source": [
    "%autoreload 2\n",
    "import soccer_xg.features as fn\n",
    "from soccer_xg.visualisation import plot_heatmap"
   ]
  },
  {
   "cell_type": "markdown",
   "metadata": {},
   "source": [
    "### Shots by foot"
   ]
  },
  {
   "cell_type": "code",
   "execution_count": 24,
   "metadata": {},
   "outputs": [],
   "source": [
    "start = np.array(list(itertools.product(np.arange(0, 106, 1), np.arange(0, 69, 1))))\n",
    "df = pd.DataFrame({'start_x': start[:,0], 'start_y': start[:,1], 'bodypart_id': 'foot'})\n",
    "df = pd.concat([\n",
    "    fn.startlocation(df), \n",
    "    fn.startpolar(df),\n",
    "    fn.bodypart(df),\n",
    "    fn.goalangle(df),\n",
    "], axis=1)"
   ]
  },
  {
   "cell_type": "code",
   "execution_count": 25,
   "metadata": {},
   "outputs": [
    {
     "data": {
      "image/png": "[encoded data removed]",
      "text/plain": [
       "<Figure size 576x720 with 1 Axes>"
      ]
     },
     "metadata": {
      "needs_background": "light"
     },
     "output_type": "display_data"
    },
    {
     "data": {
      "image/png": "[encoded data removed]",
      "text/plain": [
       "<Figure size 576x720 with 1 Axes>"
      ]
     },
     "metadata": {
      "needs_background": "light"
     },
     "output_type": "display_data"
    }
   ],
   "source": [
    "model = xg.XGModel.load_model(f'{provider}_openplay_logreg_basic')\n",
    "ax0 = plot_heatmap(model, df, axis=None)\n",
    "ax0.set_title('Logistic regression xG heatmap')\n",
    "\n",
    "model = xg.XGModel.load_model(f'{provider}_openplay_xgboost_basic')\n",
    "ax1 = plot_heatmap(model, df, axis=None);\n",
    "ax1.set_title('Boosted trees xG heatmap')\n",
    "\n",
    "plt.show()"
   ]
  },
  {
   "cell_type": "markdown",
   "metadata": {},
   "source": [
    "### Headers"
   ]
  },
  {
   "cell_type": "code",
   "execution_count": 26,
   "metadata": {},
   "outputs": [],
   "source": [
    "start = np.array(list(itertools.product(np.arange(0, 106, 1), np.arange(0, 69, 1))))\n",
    "df = pd.DataFrame({'start_x': start[:,0], 'start_y': start[:,1], 'bodypart_id': 'head'})\n",
    "df = pd.concat([\n",
    "    fn.startlocation(df), \n",
    "    fn.startpolar(df),\n",
    "    fn.bodypart(df),\n",
    "    fn.goalangle(df),\n",
    "], axis=1)"
   ]
  },
  {
   "cell_type": "code",
   "execution_count": 27,
   "metadata": {},
   "outputs": [
    {
     "data": {
      "image/png": "[encoded data removed]",
      "text/plain": [
       "<Figure size 576x720 with 1 Axes>"
      ]
     },
     "metadata": {
      "needs_background": "light"
     },
     "output_type": "display_data"
    },
    {
     "data": {
      "image/png": "[encoded data removed]",
      "text/plain": [
       "<Figure size 576x720 with 1 Axes>"
      ]
     },
     "metadata": {
      "needs_background": "light"
     },
     "output_type": "display_data"
    }
   ],
   "source": [
    "model = xg.XGModel.load_model(f'{provider}_openplay_logreg_basic')\n",
    "ax0 = plot_heatmap(model, df, axis=None)\n",
    "ax0.set_title('Logistic regression xG heatmap')\n",
    "\n",
    "model = xg.XGModel.load_model(f'{provider}_openplay_xgboost_basic')\n",
    "ax1 = plot_heatmap(model, df, axis=None);\n",
    "ax1.set_title('Boosted trees xG heatmap')\n",
    "\n",
    "plt.show()"
   ]
  },
  {
   "cell_type": "markdown",
   "metadata": {},
   "source": [
    "## Combining custom models\n",
    "In this notebook we've trained models that can only predict shots from open play. To be able to compute xG values from all shot types, you will have to combine them with other pipelines."
   ]
  },
  {
   "cell_type": "code",
   "execution_count": 31,
   "metadata": {},
   "outputs": [],
   "source": [
    "openplay_model = xg.XGModel.load_model(f'{provider}_openplay_xgboost_basic') # custom pipeline for openplay\n",
    "penalty_model = xg.PenaltyXGModel() # default pipeline for penalties\n",
    "freekick_model = xg.FreekickXGModel() # default pipeline for freekicks\n",
    "\n",
    "model = xg.XGModel()\n",
    "model.model = [openplay_model, penalty_model, freekick_model]"
   ]
  },
  {
   "cell_type": "code",
   "execution_count": 32,
   "metadata": {},
   "outputs": [
    {
     "name": "stderr",
     "output_type": "stream",
     "text": [
      "Generating features: 100%|██████████| 1446/1446 [06:50<00:00,  3.52it/s]\n",
      "Generating labels: 100%|██████████| 1446/1446 [00:35<00:00, 41.19it/s]\n",
      "Generating features: 100%|██████████| 1446/1446 [04:46<00:00,  5.04it/s]\n",
      "Generating labels: 100%|██████████| 1446/1446 [00:34<00:00, 41.82it/s]\n"
     ]
    }
   ],
   "source": [
    "model.train(api, training_seasons=[('ESP', '1718'), ('ITA', '1718'), ('FRA', '1718'), ('GER', '1718')])"
   ]
  },
  {
   "cell_type": "code",
   "execution_count": 33,
   "metadata": {},
   "outputs": [
    {
     "name": "stderr",
     "output_type": "stream",
     "text": [
      "Generating labels: 100%|██████████| 380/380 [00:09<00:00, 41.19it/s]\n",
      "Generating features: 100%|██████████| 380/380 [01:48<00:00,  3.52it/s]\n",
      "Generating features: 100%|██████████| 380/380 [00:08<00:00, 42.33it/s]\n",
      "Generating features: 100%|██████████| 380/380 [01:09<00:00,  5.49it/s]\n",
      "No handles with labels found to put in legend.\n"
     ]
    },
    {
     "data": {
      "text/plain": [
       "{'max_dev': 29.633825426918392,\n",
       " 'residual_area': 821.0990497947265,\n",
       " 'roc': 0.7871554818983253,\n",
       " 'brier': 0.08370078584210341,\n",
       " 'ece': 0.006895048176804048,\n",
       " 'ace': 0.005767807970400487,\n",
       " 'fig': <Figure size 720x360 with 3 Axes>}"
      ]
     },
     "execution_count": 33,
     "metadata": {},
     "output_type": "execute_result"
    },
    {
     "data": {
      "image/png": "[encoded data removed]",
      "text/plain": [
       "<Figure size 720x360 with 3 Axes>"
      ]
     },
     "metadata": {
      "needs_background": "light"
     },
     "output_type": "display_data"
    }
   ],
   "source": [
    "model.validate(api, validation_seasons=[('ENG', '1718')])"
   ]
  },
  {
   "cell_type": "code",
   "execution_count": null,
   "metadata": {},
   "outputs": [],
   "source": []
  }
 ],
 "metadata": {
  "kernelspec": {
   "display_name": "soccer_dataprovider_comparison",
   "language": "python",
   "name": "soccer_dataprovider_comparison"
  },
  "language_info": {
   "codemirror_mode": {
    "name": "ipython",
    "version": 3
   },
   "file_extension": ".py",
   "mimetype": "text/x-python",
   "name": "python",
   "nbconvert_exporter": "python",
   "pygments_lexer": "ipython3",
   "version": "3.6.2"
  },
  "toc": {
   "base_numbering": 1,
   "nav_menu": {},
   "number_sections": true,
   "sideBar": true,
   "skip_h1_title": false,
   "title_cell": "Table of Contents",
   "title_sidebar": "Contents",
   "toc_cell": false,
   "toc_position": {},
   "toc_section_display": true,
   "toc_window_display": true
  }
 },
 "nbformat": 4,
 "nbformat_minor": 2
}
