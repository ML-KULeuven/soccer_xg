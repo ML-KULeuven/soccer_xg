{
 "cells": [
  {
   "cell_type": "markdown",
   "metadata": {},
   "source": [
    "# Data Preparation\n",
    "\n",
    "This notebook loads the 2018 World Cup dataset provided by StatsBomb and converts it to the [SPADL format](https://github.com/ML-KULeuven/socceraction)."
   ]
  },
  {
   "cell_type": "markdown",
   "metadata": {},
   "source": [
    "**Disclaimer**: this notebook is compatible with the following package versions:\n",
    "\n",
    "- tqdm 4.42.1\n",
    "- pandas 1.0\n",
    "- socceraction 0.1.1"
   ]
  },
  {
   "cell_type": "code",
   "execution_count": 1,
   "metadata": {},
   "outputs": [],
   "source": [
    "import os; import sys\n",
    "from tqdm.notebook import tqdm\n",
    "\n",
    "import math\n",
    "import pandas as pd\n",
    "\n",
    "import socceraction.spadl as spadl\n",
    "import socceraction.spadl.statsbomb as statsbomb"
   ]
  },
  {
   "cell_type": "markdown",
   "metadata": {},
   "source": [
    "## Configure leagues and seasons to download and convert\n",
    "The two dictionaries below map my internal season and league IDs to Statsbomb's IDs. Using an internal ID makes it easier to work with data from multiple providers."
   ]
  },
  {
   "cell_type": "code",
   "execution_count": 2,
   "metadata": {},
   "outputs": [],
   "source": [
    "seasons = {\n",
    "    3: '2018',\n",
    "}\n",
    "leagues = {\n",
    "    'FIFA World Cup': 'WC',\n",
    "}"
   ]
  },
  {
   "cell_type": "markdown",
   "metadata": {},
   "source": [
    "## Configure folder names and download URLs\n",
    "\n",
    "The two cells below define the URLs from where the data are downloaded and were data is stored."
   ]
  },
  {
   "cell_type": "code",
   "execution_count": 3,
   "metadata": {},
   "outputs": [],
   "source": [
    "free_open_data_remote = \"https://raw.githubusercontent.com/statsbomb/open-data/master/data/\""
   ]
  },
  {
   "cell_type": "code",
   "execution_count": 4,
   "metadata": {},
   "outputs": [
    {
     "name": "stdout",
     "output_type": "stream",
     "text": [
      "Directory ../data/statsbomb_opensource/raw created \n"
     ]
    }
   ],
   "source": [
    "spadl_datafolder = \"../data/statsbomb_opensource\"\n",
    "raw_datafolder = f\"../data/statsbomb_opensource/raw\"\n",
    "\n",
    "# Create data folder if it doesn't exist\n",
    "for d in [raw_datafolder, spadl_datafolder]:\n",
    "    if not os.path.exists(d):\n",
    "        os.makedirs(d, exist_ok=True)\n",
    "        print(f\"Directory {d} created \")"
   ]
  },
  {
   "cell_type": "markdown",
   "metadata": {},
   "source": [
    "## Set up the statsbombloader"
   ]
  },
  {
   "cell_type": "code",
   "execution_count": 5,
   "metadata": {},
   "outputs": [],
   "source": [
    "SBL = statsbomb.StatsBombLoader(root=free_open_data_remote, getter=\"remote\")"
   ]
  },
  {
   "cell_type": "markdown",
   "metadata": {},
   "source": [
    "## Select competitions to load and convert"
   ]
  },
  {
   "cell_type": "code",
   "execution_count": 6,
   "metadata": {},
   "outputs": [
    {
     "data": {
      "text/plain": [
       "{'Champions League',\n",
       " \"FA Women's Super League\",\n",
       " 'FIFA World Cup',\n",
       " 'La Liga',\n",
       " 'NWSL',\n",
       " 'Premier League',\n",
       " \"Women's World Cup\"}"
      ]
     },
     "execution_count": 6,
     "metadata": {},
     "output_type": "execute_result"
    }
   ],
   "source": [
    "# View all available competitions\n",
    "df_competitions = SBL.competitions()\n",
    "set(df_competitions.competition_name)"
   ]
  },
  {
   "cell_type": "code",
   "execution_count": 7,
   "metadata": {},
   "outputs": [
    {
     "data": {
      "text/html": [
       "<div>\n",
       "<style scoped>\n",
       "    .dataframe tbody tr th:only-of-type {\n",
       "        vertical-align: middle;\n",
       "    }\n",
       "\n",
       "    .dataframe tbody tr th {\n",
       "        vertical-align: top;\n",
       "    }\n",
       "\n",
       "    .dataframe thead th {\n",
       "        text-align: right;\n",
       "    }\n",
       "</style>\n",
       "<table border=\"1\" class=\"dataframe\">\n",
       "  <thead>\n",
       "    <tr style=\"text-align: right;\">\n",
       "      <th></th>\n",
       "      <th>competition_id</th>\n",
       "      <th>season_id</th>\n",
       "      <th>country_name</th>\n",
       "      <th>competition_name</th>\n",
       "      <th>competition_gender</th>\n",
       "      <th>season_name</th>\n",
       "      <th>match_updated</th>\n",
       "      <th>match_available</th>\n",
       "    </tr>\n",
       "  </thead>\n",
       "  <tbody>\n",
       "    <tr>\n",
       "      <th>17</th>\n",
       "      <td>43</td>\n",
       "      <td>3</td>\n",
       "      <td>International</td>\n",
       "      <td>FIFA World Cup</td>\n",
       "      <td>male</td>\n",
       "      <td>2018</td>\n",
       "      <td>2019-12-16T23:09:16.168756</td>\n",
       "      <td>2019-12-16T23:09:16.168756</td>\n",
       "    </tr>\n",
       "  </tbody>\n",
       "</table>\n",
       "</div>"
      ],
      "text/plain": [
       "    competition_id  season_id   country_name competition_name  \\\n",
       "17              43          3  International   FIFA World Cup   \n",
       "\n",
       "   competition_gender season_name               match_updated  \\\n",
       "17               male        2018  2019-12-16T23:09:16.168756   \n",
       "\n",
       "               match_available  \n",
       "17  2019-12-16T23:09:16.168756  "
      ]
     },
     "execution_count": 7,
     "metadata": {},
     "output_type": "execute_result"
    }
   ],
   "source": [
    "df_selected_competitions = df_competitions[df_competitions.competition_name.isin(\n",
    "    leagues.keys()\n",
    ")]\n",
    "\n",
    "df_selected_competitions"
   ]
  },
  {
   "cell_type": "markdown",
   "metadata": {},
   "source": [
    "## Convert to the SPADL format"
   ]
  },
  {
   "cell_type": "code",
   "execution_count": 8,
   "metadata": {
    "scrolled": true
   },
   "outputs": [
    {
     "data": {
      "application/vnd.jupyter.widget-view+json": {
       "model_id": "ea0aaba0b07640538fcea5bc70a41681",
       "version_major": 2,
       "version_minor": 0
      },
      "text/plain": [
       "HBox(children=(FloatProgress(value=0.0, description='Loading match data', max=64.0, style=ProgressStyle(descri…"
      ]
     },
     "metadata": {},
     "output_type": "display_data"
    },
    {
     "name": "stdout",
     "output_type": "stream",
     "text": [
      "\n"
     ]
    },
    {
     "name": "stderr",
     "output_type": "stream",
     "text": [
      "/home/pieterr/Jupiter/Projects/soccer_dataprovider_comparison/.venv/lib/python3.6/site-packages/IPython/core/interactiveshell.py:3331: PerformanceWarning: \n",
      "your performance may suffer as PyTables will pickle object types that it cannot\n",
      "map directly to c-types [inferred_type->mixed,key->block1_values] [items->Index(['game_date', 'kick_off', 'competition_id', 'country_name',\n",
      "       'competition_name', 'season_id', 'season_name', 'home_team_name',\n",
      "       'home_team_gender', 'home_team_group', 'name', 'managers',\n",
      "       'away_team_name', 'away_team_gender', 'away_team_group', 'match_status',\n",
      "       'last_updated', 'data_version'],\n",
      "      dtype='object')]\n",
      "\n",
      "  exec(code_obj, self.user_global_ns, self.user_ns)\n",
      "/home/pieterr/Jupiter/Projects/soccer_dataprovider_comparison/.venv/lib/python3.6/site-packages/IPython/core/interactiveshell.py:3331: PerformanceWarning: \n",
      "your performance may suffer as PyTables will pickle object types that it cannot\n",
      "map directly to c-types [inferred_type->mixed,key->block1_values] [items->Index(['player_name', 'player_nickname', 'country_name', 'extra'], dtype='object')]\n",
      "\n",
      "  exec(code_obj, self.user_global_ns, self.user_ns)\n",
      "/home/pieterr/Jupiter/Projects/soccer_dataprovider_comparison/.venv/lib/python3.6/site-packages/IPython/core/interactiveshell.py:3331: PerformanceWarning: \n",
      "your performance may suffer as PyTables will pickle object types that it cannot\n",
      "map directly to c-types [inferred_type->mixed-integer,key->block2_values] [items->Index(['player_name', 'position_name', 'extra', 'team_name'], dtype='object')]\n",
      "\n",
      "  exec(code_obj, self.user_global_ns, self.user_ns)\n"
     ]
    }
   ],
   "source": [
    "for competition in df_selected_competitions.itertuples():\n",
    "    # Get matches from all selected competition\n",
    "    matches = SBL.matches(competition.competition_id, competition.season_id)\n",
    "\n",
    "    matches_verbose = tqdm(list(matches.itertuples()), desc=\"Loading match data\")\n",
    "    teams, players, player_games = [], [], []\n",
    "    \n",
    "    competition_id = leagues[competition.competition_name]\n",
    "    season_id = seasons[competition.season_id]\n",
    "    spadl_h5 = os.path.join(spadl_datafolder, f\"spadl-statsbomb_opensource-{competition_id}-{season_id}.h5\")\n",
    "    with pd.HDFStore(spadl_h5) as spadlstore:\n",
    "        \n",
    "        spadlstore[\"actiontypes\"] = spadl.actiontypes_df()\n",
    "        spadlstore[\"results\"] = spadl.results_df()\n",
    "        spadlstore[\"bodyparts\"] = spadl.bodyparts_df()\n",
    "        \n",
    "        for match in matches_verbose:\n",
    "            # load data\n",
    "            teams.append(SBL.teams(match.match_id))\n",
    "            players.append(SBL.players(match.match_id))\n",
    "            events = SBL.events(match.match_id)\n",
    "\n",
    "            # convert data\n",
    "            player_games.append(statsbomb.extract_player_games(events))\n",
    "            spadlstore[f\"actions/game_{match.match_id}\"] = statsbomb.convert_to_actions(events,match.home_team_id)\n",
    "\n",
    "        games = matches.rename(columns={\"match_id\": \"game_id\", \"match_date\": \"game_date\"})\n",
    "        games.season_id = season_id\n",
    "        games.competition_id = competition_id\n",
    "        spadlstore[\"games\"] = games\n",
    "        spadlstore[\"teams\"] = pd.concat(teams).drop_duplicates(\"team_id\").reset_index(drop=True)\n",
    "        spadlstore[\"players\"] = pd.concat(players).drop_duplicates(\"player_id\").reset_index(drop=True)\n",
    "        spadlstore[\"player_games\"] = pd.concat(player_games).reset_index(drop=True)"
   ]
  },
  {
   "cell_type": "code",
   "execution_count": null,
   "metadata": {},
   "outputs": [],
   "source": []
  }
 ],
 "metadata": {
  "kernelspec": {
   "display_name": "soccer_dataprovider_comparison",
   "language": "python",
   "name": "soccer_dataprovider_comparison"
  },
  "language_info": {
   "codemirror_mode": {
    "name": "ipython",
    "version": 3
   },
   "file_extension": ".py",
   "mimetype": "text/x-python",
   "name": "python",
   "nbconvert_exporter": "python",
   "pygments_lexer": "ipython3",
   "version": "3.6.2"
  },
  "toc": {
   "base_numbering": 1,
   "nav_menu": {},
   "number_sections": true,
   "sideBar": true,
   "skip_h1_title": false,
   "title_cell": "Table of Contents",
   "title_sidebar": "Contents",
   "toc_cell": false,
   "toc_position": {},
   "toc_section_display": true,
   "toc_window_display": true
  }
 },
 "nbformat": 4,
 "nbformat_minor": 2
}
